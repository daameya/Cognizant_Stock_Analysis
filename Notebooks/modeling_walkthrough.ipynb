{
  "cells": [
    {
      "cell_type": "markdown",
      "metadata": {
        "id": "8rG0LrLjZ3gX"
      },
      "source": [
        "# Task 3 - Modeling\n",
        "\n",
        "This notebook will walk you through this task interactively, meaning that once you've imported this notebook into Google Colab, you'll be able to run individual cells of code independently, and see the results as you go.\n",
        "\n",
        "To follow along, simply read the notes within the notebook and run the cells in order.\n",
        "\n",
        "## Section 1 - Setup\n",
        "\n",
        "First, we need to mount this notebook to our Google Drive folder, in order to access the CSV data file. If you haven't already, watch this video https://www.youtube.com/watch?v=woHxvbBLarQ to help you mount your Google Drive folder."
      ]
    },
    {
      "cell_type": "code",
      "execution_count": 1,
      "metadata": {
        "colab": {
          "base_uri": "https://localhost:8080/"
        },
        "id": "faq8A7ofZlkr",
        "outputId": "649d1bdc-6433-494f-8a23-b74b07acd1db"
      },
      "outputs": [
        {
          "name": "stdout",
          "output_type": "stream",
          "text": [
            "Drive already mounted at /content/drive; to attempt to forcibly remount, call drive.mount(\"/content/drive\", force_remount=True).\n"
          ]
        }
      ],
      "source": [
        "from google.colab import drive\n",
        "drive.mount('/content/drive')"
      ]
    },
    {
      "cell_type": "markdown",
      "metadata": {
        "id": "hMs_id3AaP9X"
      },
      "source": [
        "We want to use dataframes once again to store and manipulate the data."
      ]
    },
    {
      "cell_type": "code",
      "execution_count": 2,
      "metadata": {
        "colab": {
          "base_uri": "https://localhost:8080/"
        },
        "id": "z0qRcbPJaElQ",
        "outputId": "299826f0-e134-4120-af18-7de427041ba2"
      },
      "outputs": [
        {
          "name": "stdout",
          "output_type": "stream",
          "text": [
            "Requirement already satisfied: pandas in /usr/local/lib/python3.7/dist-packages (1.3.5)\n",
            "Requirement already satisfied: numpy>=1.17.3 in /usr/local/lib/python3.7/dist-packages (from pandas) (1.21.6)\n",
            "Requirement already satisfied: pytz>=2017.3 in /usr/local/lib/python3.7/dist-packages (from pandas) (2022.1)\n",
            "Requirement already satisfied: python-dateutil>=2.7.3 in /usr/local/lib/python3.7/dist-packages (from pandas) (2.8.2)\n",
            "Requirement already satisfied: six>=1.5 in /usr/local/lib/python3.7/dist-packages (from python-dateutil>=2.7.3->pandas) (1.15.0)\n"
          ]
        }
      ],
      "source": [
        "!pip install pandas"
      ]
    },
    {
      "cell_type": "code",
      "execution_count": 1,
      "metadata": {
        "id": "nenrhey1aYiD"
      },
      "outputs": [],
      "source": [
        "import pandas as pd"
      ]
    },
    {
      "cell_type": "markdown",
      "metadata": {
        "id": "ncPFYiD_abg4"
      },
      "source": [
        "---\n",
        "\n",
        "## Section 2 - Data loading\n",
        "\n",
        "Similar to before, let's load our data from Google Drive for the 3 datasets provided. Be sure to upload the datasets into Google Drive, so that you can access them here."
      ]
    },
    {
      "cell_type": "code",
      "execution_count": 2,
      "metadata": {
        "colab": {
          "base_uri": "https://localhost:8080/",
          "height": 250
        },
        "id": "hPJPVY2IaZdy",
        "outputId": "16a7f02a-cd42-468b-9c3b-473abb64e60e"
      },
      "outputs": [
        {
          "data": {
            "text/html": [
              "<div>\n",
              "<style scoped>\n",
              "    .dataframe tbody tr th:only-of-type {\n",
              "        vertical-align: middle;\n",
              "    }\n",
              "\n",
              "    .dataframe tbody tr th {\n",
              "        vertical-align: top;\n",
              "    }\n",
              "\n",
              "    .dataframe thead th {\n",
              "        text-align: right;\n",
              "    }\n",
              "</style>\n",
              "<table border=\"1\" class=\"dataframe\">\n",
              "  <thead>\n",
              "    <tr style=\"text-align: right;\">\n",
              "      <th></th>\n",
              "      <th>transaction_id</th>\n",
              "      <th>timestamp</th>\n",
              "      <th>product_id</th>\n",
              "      <th>category</th>\n",
              "      <th>customer_type</th>\n",
              "      <th>unit_price</th>\n",
              "      <th>quantity</th>\n",
              "      <th>total</th>\n",
              "      <th>payment_type</th>\n",
              "    </tr>\n",
              "  </thead>\n",
              "  <tbody>\n",
              "    <tr>\n",
              "      <th>0</th>\n",
              "      <td>a1c82654-c52c-45b3-8ce8-4c2a1efe63ed</td>\n",
              "      <td>2022-03-02 09:51:38</td>\n",
              "      <td>3bc6c1ea-0198-46de-9ffd-514ae3338713</td>\n",
              "      <td>fruit</td>\n",
              "      <td>gold</td>\n",
              "      <td>3.99</td>\n",
              "      <td>2</td>\n",
              "      <td>7.98</td>\n",
              "      <td>e-wallet</td>\n",
              "    </tr>\n",
              "    <tr>\n",
              "      <th>1</th>\n",
              "      <td>931ad550-09e8-4da6-beaa-8c9d17be9c60</td>\n",
              "      <td>2022-03-06 10:33:59</td>\n",
              "      <td>ad81b46c-bf38-41cf-9b54-5fe7f5eba93e</td>\n",
              "      <td>fruit</td>\n",
              "      <td>standard</td>\n",
              "      <td>3.99</td>\n",
              "      <td>1</td>\n",
              "      <td>3.99</td>\n",
              "      <td>e-wallet</td>\n",
              "    </tr>\n",
              "    <tr>\n",
              "      <th>2</th>\n",
              "      <td>ae133534-6f61-4cd6-b6b8-d1c1d8d90aea</td>\n",
              "      <td>2022-03-04 17:20:21</td>\n",
              "      <td>7c55cbd4-f306-4c04-a030-628cbe7867c1</td>\n",
              "      <td>fruit</td>\n",
              "      <td>premium</td>\n",
              "      <td>0.19</td>\n",
              "      <td>2</td>\n",
              "      <td>0.38</td>\n",
              "      <td>e-wallet</td>\n",
              "    </tr>\n",
              "    <tr>\n",
              "      <th>3</th>\n",
              "      <td>157cebd9-aaf0-475d-8a11-7c8e0f5b76e4</td>\n",
              "      <td>2022-03-02 17:23:58</td>\n",
              "      <td>80da8348-1707-403f-8be7-9e6deeccc883</td>\n",
              "      <td>fruit</td>\n",
              "      <td>gold</td>\n",
              "      <td>0.19</td>\n",
              "      <td>4</td>\n",
              "      <td>0.76</td>\n",
              "      <td>e-wallet</td>\n",
              "    </tr>\n",
              "    <tr>\n",
              "      <th>4</th>\n",
              "      <td>a81a6cd3-5e0c-44a2-826c-aea43e46c514</td>\n",
              "      <td>2022-03-05 14:32:43</td>\n",
              "      <td>7f5e86e6-f06f-45f6-bf44-27b095c9ad1d</td>\n",
              "      <td>fruit</td>\n",
              "      <td>basic</td>\n",
              "      <td>4.49</td>\n",
              "      <td>2</td>\n",
              "      <td>8.98</td>\n",
              "      <td>debit card</td>\n",
              "    </tr>\n",
              "  </tbody>\n",
              "</table>\n",
              "</div>"
            ],
            "text/plain": [
              "                         transaction_id            timestamp  \\\n",
              "0  a1c82654-c52c-45b3-8ce8-4c2a1efe63ed  2022-03-02 09:51:38   \n",
              "1  931ad550-09e8-4da6-beaa-8c9d17be9c60  2022-03-06 10:33:59   \n",
              "2  ae133534-6f61-4cd6-b6b8-d1c1d8d90aea  2022-03-04 17:20:21   \n",
              "3  157cebd9-aaf0-475d-8a11-7c8e0f5b76e4  2022-03-02 17:23:58   \n",
              "4  a81a6cd3-5e0c-44a2-826c-aea43e46c514  2022-03-05 14:32:43   \n",
              "\n",
              "                             product_id category customer_type  unit_price  \\\n",
              "0  3bc6c1ea-0198-46de-9ffd-514ae3338713    fruit          gold        3.99   \n",
              "1  ad81b46c-bf38-41cf-9b54-5fe7f5eba93e    fruit      standard        3.99   \n",
              "2  7c55cbd4-f306-4c04-a030-628cbe7867c1    fruit       premium        0.19   \n",
              "3  80da8348-1707-403f-8be7-9e6deeccc883    fruit          gold        0.19   \n",
              "4  7f5e86e6-f06f-45f6-bf44-27b095c9ad1d    fruit         basic        4.49   \n",
              "\n",
              "   quantity  total payment_type  \n",
              "0         2   7.98     e-wallet  \n",
              "1         1   3.99     e-wallet  \n",
              "2         2   0.38     e-wallet  \n",
              "3         4   0.76     e-wallet  \n",
              "4         2   8.98   debit card  "
            ]
          },
          "execution_count": 2,
          "metadata": {},
          "output_type": "execute_result"
        }
      ],
      "source": [
        "path = \"d:/Cognizant Stock Analysis/Task 3/Data/\"\n",
        "\n",
        "sales_df = pd.read_csv(f\"{path}sales.csv\")\n",
        "sales_df.drop(columns=[\"Unnamed: 0\"], inplace=True, errors='ignore')\n",
        "sales_df.head()"
      ]
    },
    {
      "cell_type": "code",
      "execution_count": 3,
      "metadata": {
        "colab": {
          "base_uri": "https://localhost:8080/",
          "height": 206
        },
        "id": "BmrEgGsRawiS",
        "outputId": "cba7168d-c75e-4650-a479-174ad886b22a"
      },
      "outputs": [
        {
          "data": {
            "text/html": [
              "<div>\n",
              "<style scoped>\n",
              "    .dataframe tbody tr th:only-of-type {\n",
              "        vertical-align: middle;\n",
              "    }\n",
              "\n",
              "    .dataframe tbody tr th {\n",
              "        vertical-align: top;\n",
              "    }\n",
              "\n",
              "    .dataframe thead th {\n",
              "        text-align: right;\n",
              "    }\n",
              "</style>\n",
              "<table border=\"1\" class=\"dataframe\">\n",
              "  <thead>\n",
              "    <tr style=\"text-align: right;\">\n",
              "      <th></th>\n",
              "      <th>id</th>\n",
              "      <th>timestamp</th>\n",
              "      <th>product_id</th>\n",
              "      <th>estimated_stock_pct</th>\n",
              "    </tr>\n",
              "  </thead>\n",
              "  <tbody>\n",
              "    <tr>\n",
              "      <th>0</th>\n",
              "      <td>4220e505-c247-478d-9831-6b9f87a4488a</td>\n",
              "      <td>2022-03-07 12:13:02</td>\n",
              "      <td>f658605e-75f3-4fed-a655-c0903f344427</td>\n",
              "      <td>0.75</td>\n",
              "    </tr>\n",
              "    <tr>\n",
              "      <th>1</th>\n",
              "      <td>f2612b26-fc82-49ea-8940-0751fdd4d9ef</td>\n",
              "      <td>2022-03-07 16:39:46</td>\n",
              "      <td>de06083a-f5c0-451d-b2f4-9ab88b52609d</td>\n",
              "      <td>0.48</td>\n",
              "    </tr>\n",
              "    <tr>\n",
              "      <th>2</th>\n",
              "      <td>989a287f-67e6-4478-aa49-c3a35dac0e2e</td>\n",
              "      <td>2022-03-01 18:17:43</td>\n",
              "      <td>ce8f3a04-d1a4-43b1-a7c2-fa1b8e7674c8</td>\n",
              "      <td>0.58</td>\n",
              "    </tr>\n",
              "    <tr>\n",
              "      <th>3</th>\n",
              "      <td>af8e5683-d247-46ac-9909-1a77bdebefb2</td>\n",
              "      <td>2022-03-02 14:29:09</td>\n",
              "      <td>c21e3ba9-92a3-4745-92c2-6faef73223f7</td>\n",
              "      <td>0.79</td>\n",
              "    </tr>\n",
              "    <tr>\n",
              "      <th>4</th>\n",
              "      <td>08a32247-3f44-4002-85fb-c198434dd4bb</td>\n",
              "      <td>2022-03-02 13:46:18</td>\n",
              "      <td>7f478817-aa5b-44e9-9059-8045228c9eb0</td>\n",
              "      <td>0.22</td>\n",
              "    </tr>\n",
              "  </tbody>\n",
              "</table>\n",
              "</div>"
            ],
            "text/plain": [
              "                                     id            timestamp  \\\n",
              "0  4220e505-c247-478d-9831-6b9f87a4488a  2022-03-07 12:13:02   \n",
              "1  f2612b26-fc82-49ea-8940-0751fdd4d9ef  2022-03-07 16:39:46   \n",
              "2  989a287f-67e6-4478-aa49-c3a35dac0e2e  2022-03-01 18:17:43   \n",
              "3  af8e5683-d247-46ac-9909-1a77bdebefb2  2022-03-02 14:29:09   \n",
              "4  08a32247-3f44-4002-85fb-c198434dd4bb  2022-03-02 13:46:18   \n",
              "\n",
              "                             product_id  estimated_stock_pct  \n",
              "0  f658605e-75f3-4fed-a655-c0903f344427                 0.75  \n",
              "1  de06083a-f5c0-451d-b2f4-9ab88b52609d                 0.48  \n",
              "2  ce8f3a04-d1a4-43b1-a7c2-fa1b8e7674c8                 0.58  \n",
              "3  c21e3ba9-92a3-4745-92c2-6faef73223f7                 0.79  \n",
              "4  7f478817-aa5b-44e9-9059-8045228c9eb0                 0.22  "
            ]
          },
          "execution_count": 3,
          "metadata": {},
          "output_type": "execute_result"
        }
      ],
      "source": [
        "stock_df = pd.read_csv(f\"{path}sensor_stock_levels.csv\")\n",
        "stock_df.drop(columns=[\"Unnamed: 0\"], inplace=True, errors='ignore')\n",
        "stock_df.head()"
      ]
    },
    {
      "cell_type": "code",
      "execution_count": 4,
      "metadata": {
        "colab": {
          "base_uri": "https://localhost:8080/",
          "height": 206
        },
        "id": "qDJ9PrbZa5Ro",
        "outputId": "5589a683-dacb-448a-866f-053677ba4f7c"
      },
      "outputs": [
        {
          "data": {
            "text/html": [
              "<div>\n",
              "<style scoped>\n",
              "    .dataframe tbody tr th:only-of-type {\n",
              "        vertical-align: middle;\n",
              "    }\n",
              "\n",
              "    .dataframe tbody tr th {\n",
              "        vertical-align: top;\n",
              "    }\n",
              "\n",
              "    .dataframe thead th {\n",
              "        text-align: right;\n",
              "    }\n",
              "</style>\n",
              "<table border=\"1\" class=\"dataframe\">\n",
              "  <thead>\n",
              "    <tr style=\"text-align: right;\">\n",
              "      <th></th>\n",
              "      <th>id</th>\n",
              "      <th>timestamp</th>\n",
              "      <th>temperature</th>\n",
              "    </tr>\n",
              "  </thead>\n",
              "  <tbody>\n",
              "    <tr>\n",
              "      <th>0</th>\n",
              "      <td>d1ca1ef8-0eac-42fc-af80-97106efc7b13</td>\n",
              "      <td>2022-03-07 15:55:20</td>\n",
              "      <td>2.96</td>\n",
              "    </tr>\n",
              "    <tr>\n",
              "      <th>1</th>\n",
              "      <td>4b8a66c4-0f3a-4f16-826f-8cf9397e9d18</td>\n",
              "      <td>2022-03-01 09:18:22</td>\n",
              "      <td>1.88</td>\n",
              "    </tr>\n",
              "    <tr>\n",
              "      <th>2</th>\n",
              "      <td>3d47a0c7-1e72-4512-812f-b6b5d8428cf3</td>\n",
              "      <td>2022-03-04 15:12:26</td>\n",
              "      <td>1.78</td>\n",
              "    </tr>\n",
              "    <tr>\n",
              "      <th>3</th>\n",
              "      <td>9500357b-ce15-424a-837a-7677b386f471</td>\n",
              "      <td>2022-03-02 12:30:42</td>\n",
              "      <td>2.18</td>\n",
              "    </tr>\n",
              "    <tr>\n",
              "      <th>4</th>\n",
              "      <td>c4b61fec-99c2-4c6d-8e5d-4edd8c9632fa</td>\n",
              "      <td>2022-03-05 09:09:33</td>\n",
              "      <td>1.38</td>\n",
              "    </tr>\n",
              "  </tbody>\n",
              "</table>\n",
              "</div>"
            ],
            "text/plain": [
              "                                     id            timestamp  temperature\n",
              "0  d1ca1ef8-0eac-42fc-af80-97106efc7b13  2022-03-07 15:55:20         2.96\n",
              "1  4b8a66c4-0f3a-4f16-826f-8cf9397e9d18  2022-03-01 09:18:22         1.88\n",
              "2  3d47a0c7-1e72-4512-812f-b6b5d8428cf3  2022-03-04 15:12:26         1.78\n",
              "3  9500357b-ce15-424a-837a-7677b386f471  2022-03-02 12:30:42         2.18\n",
              "4  c4b61fec-99c2-4c6d-8e5d-4edd8c9632fa  2022-03-05 09:09:33         1.38"
            ]
          },
          "execution_count": 4,
          "metadata": {},
          "output_type": "execute_result"
        }
      ],
      "source": [
        "temp_df = pd.read_csv(f\"{path}sensor_storage_temperature.csv\")\n",
        "temp_df.drop(columns=[\"Unnamed: 0\"], inplace=True, errors='ignore')\n",
        "temp_df.head()"
      ]
    },
    {
      "cell_type": "markdown",
      "metadata": {
        "id": "bAd1UwJYbAt4"
      },
      "source": [
        "---\n",
        "\n",
        "## Section 4 - Data cleaning\n",
        "\n",
        "Now that we have our 3 datasets successfully loaded, we need to ensure that the data is clean. Data cleaning can be a very intense task, so for this exercise, we will focus just on ensuring that the correct datatypes are present for each column, and if not, correcting them.\n",
        "\n",
        "We can use the `.info()` method to look at data types."
      ]
    },
    {
      "cell_type": "code",
      "execution_count": 5,
      "metadata": {
        "colab": {
          "base_uri": "https://localhost:8080/"
        },
        "id": "JP3aOs9sa_jA",
        "outputId": "8295a4fe-da79-40fe-e6aa-8aefdbdc1aec"
      },
      "outputs": [
        {
          "name": "stdout",
          "output_type": "stream",
          "text": [
            "<class 'pandas.core.frame.DataFrame'>\n",
            "RangeIndex: 7829 entries, 0 to 7828\n",
            "Data columns (total 9 columns):\n",
            " #   Column          Non-Null Count  Dtype  \n",
            "---  ------          --------------  -----  \n",
            " 0   transaction_id  7829 non-null   object \n",
            " 1   timestamp       7829 non-null   object \n",
            " 2   product_id      7829 non-null   object \n",
            " 3   category        7829 non-null   object \n",
            " 4   customer_type   7829 non-null   object \n",
            " 5   unit_price      7829 non-null   float64\n",
            " 6   quantity        7829 non-null   int64  \n",
            " 7   total           7829 non-null   float64\n",
            " 8   payment_type    7829 non-null   object \n",
            "dtypes: float64(2), int64(1), object(6)\n",
            "memory usage: 550.6+ KB\n"
          ]
        }
      ],
      "source": [
        "sales_df.info()"
      ]
    },
    {
      "cell_type": "code",
      "execution_count": 6,
      "metadata": {
        "colab": {
          "base_uri": "https://localhost:8080/"
        },
        "id": "saa9LAq4cHjf",
        "outputId": "706c741e-4fd3-4df1-8b69-8853ef804ad3"
      },
      "outputs": [
        {
          "name": "stdout",
          "output_type": "stream",
          "text": [
            "<class 'pandas.core.frame.DataFrame'>\n",
            "RangeIndex: 15000 entries, 0 to 14999\n",
            "Data columns (total 4 columns):\n",
            " #   Column               Non-Null Count  Dtype  \n",
            "---  ------               --------------  -----  \n",
            " 0   id                   15000 non-null  object \n",
            " 1   timestamp            15000 non-null  object \n",
            " 2   product_id           15000 non-null  object \n",
            " 3   estimated_stock_pct  15000 non-null  float64\n",
            "dtypes: float64(1), object(3)\n",
            "memory usage: 468.9+ KB\n"
          ]
        }
      ],
      "source": [
        "stock_df.info()"
      ]
    },
    {
      "cell_type": "code",
      "execution_count": 7,
      "metadata": {
        "colab": {
          "base_uri": "https://localhost:8080/"
        },
        "id": "fxXrZ5VWcHU6",
        "outputId": "c46ec012-20dd-4fcb-c916-f5fb0f550e6c"
      },
      "outputs": [
        {
          "name": "stdout",
          "output_type": "stream",
          "text": [
            "<class 'pandas.core.frame.DataFrame'>\n",
            "RangeIndex: 23890 entries, 0 to 23889\n",
            "Data columns (total 3 columns):\n",
            " #   Column       Non-Null Count  Dtype  \n",
            "---  ------       --------------  -----  \n",
            " 0   id           23890 non-null  object \n",
            " 1   timestamp    23890 non-null  object \n",
            " 2   temperature  23890 non-null  float64\n",
            "dtypes: float64(1), object(2)\n",
            "memory usage: 560.0+ KB\n"
          ]
        }
      ],
      "source": [
        "temp_df.info()"
      ]
    },
    {
      "cell_type": "markdown",
      "metadata": {
        "id": "sEfzBlNkcOcn"
      },
      "source": [
        "Everything looks fine for the 3 datasets apart from the `timestamp` column in each dataset. Using the same helper function as before, let's convert this to the correct type for each dataset."
      ]
    },
    {
      "cell_type": "code",
      "execution_count": 8,
      "metadata": {
        "id": "hbdRqnmLbp-m"
      },
      "outputs": [],
      "source": [
        "def convert_to_datetime(data: pd.DataFrame = None, column: str = None):\n",
        "  '''\n",
        "  Create a copy of the input Dataframe to avoid modifying the original data \n",
        "  '''\n",
        "  dummy = data.copy()\n",
        "  '''\n",
        "  convert the specified column to datetime format using pd.to_datetime\n",
        "  the 'format' parameter specifies the expected format of the date-time strings in the column\n",
        "  '''\n",
        "  dummy[column] = pd.to_datetime(dummy[column], format='%Y-%m-%d %H:%M:%S')\n",
        "  return dummy"
      ]
    },
    {
      "cell_type": "code",
      "execution_count": 9,
      "metadata": {
        "colab": {
          "base_uri": "https://localhost:8080/"
        },
        "id": "vHncbVb5b3Pu",
        "outputId": "d2034e2c-ae34-48a9-f17e-4a12e1b8d066"
      },
      "outputs": [
        {
          "name": "stdout",
          "output_type": "stream",
          "text": [
            "<class 'pandas.core.frame.DataFrame'>\n",
            "RangeIndex: 7829 entries, 0 to 7828\n",
            "Data columns (total 9 columns):\n",
            " #   Column          Non-Null Count  Dtype         \n",
            "---  ------          --------------  -----         \n",
            " 0   transaction_id  7829 non-null   object        \n",
            " 1   timestamp       7829 non-null   datetime64[ns]\n",
            " 2   product_id      7829 non-null   object        \n",
            " 3   category        7829 non-null   object        \n",
            " 4   customer_type   7829 non-null   object        \n",
            " 5   unit_price      7829 non-null   float64       \n",
            " 6   quantity        7829 non-null   int64         \n",
            " 7   total           7829 non-null   float64       \n",
            " 8   payment_type    7829 non-null   object        \n",
            "dtypes: datetime64[ns](1), float64(2), int64(1), object(5)\n",
            "memory usage: 550.6+ KB\n"
          ]
        }
      ],
      "source": [
        "sales_df = convert_to_datetime(sales_df, 'timestamp')\n",
        "sales_df.info()"
      ]
    },
    {
      "cell_type": "code",
      "execution_count": 10,
      "metadata": {
        "colab": {
          "base_uri": "https://localhost:8080/"
        },
        "id": "8HxgGFIyfn0A",
        "outputId": "bbf5df6f-aa35-4332-f388-abca440a4ef3"
      },
      "outputs": [
        {
          "name": "stdout",
          "output_type": "stream",
          "text": [
            "<class 'pandas.core.frame.DataFrame'>\n",
            "RangeIndex: 15000 entries, 0 to 14999\n",
            "Data columns (total 4 columns):\n",
            " #   Column               Non-Null Count  Dtype         \n",
            "---  ------               --------------  -----         \n",
            " 0   id                   15000 non-null  object        \n",
            " 1   timestamp            15000 non-null  datetime64[ns]\n",
            " 2   product_id           15000 non-null  object        \n",
            " 3   estimated_stock_pct  15000 non-null  float64       \n",
            "dtypes: datetime64[ns](1), float64(1), object(2)\n",
            "memory usage: 468.9+ KB\n"
          ]
        }
      ],
      "source": [
        "stock_df = convert_to_datetime(stock_df, 'timestamp')\n",
        "stock_df.info()"
      ]
    },
    {
      "cell_type": "code",
      "execution_count": 11,
      "metadata": {
        "colab": {
          "base_uri": "https://localhost:8080/"
        },
        "id": "n_bYEBq6cEQE",
        "outputId": "2d36d375-789e-4173-90de-b88f2973672b"
      },
      "outputs": [
        {
          "name": "stdout",
          "output_type": "stream",
          "text": [
            "<class 'pandas.core.frame.DataFrame'>\n",
            "RangeIndex: 23890 entries, 0 to 23889\n",
            "Data columns (total 3 columns):\n",
            " #   Column       Non-Null Count  Dtype         \n",
            "---  ------       --------------  -----         \n",
            " 0   id           23890 non-null  object        \n",
            " 1   timestamp    23890 non-null  datetime64[ns]\n",
            " 2   temperature  23890 non-null  float64       \n",
            "dtypes: datetime64[ns](1), float64(1), object(1)\n",
            "memory usage: 560.0+ KB\n"
          ]
        }
      ],
      "source": [
        "temp_df = convert_to_datetime(temp_df, 'timestamp')\n",
        "temp_df.info()"
      ]
    },
    {
      "cell_type": "markdown",
      "metadata": {
        "id": "kVI1YDG3dD9u"
      },
      "source": [
        "This looks much better!\n",
        "\n",
        "---\n",
        "\n",
        "## Section 5 - Merge data\n",
        "\n",
        "Currently we have 3 datasets. In order to include all of this data within a predictive model, we need to merge them together into 1 dataframe. \n",
        "\n",
        "If we revisit the problem statement: \n",
        "\n",
        "```\n",
        "“Can we accurately predict the stock levels of products, based on sales data and sensor data, \n",
        "on an hourly basis in order to more intelligently procure products from our suppliers.”\n",
        "```\n",
        "\n",
        "The client indicates that they want the model to predict on an hourly basis. Looking at the data model, we can see that only column that we can use to merge the 3 datasets together is `timestamp`.\n",
        "\n",
        "So, we must first transform the `timestamp` column in all 3 datasets to be based on the hour of the day, then we can merge the datasets together."
      ]
    },
    {
      "cell_type": "code",
      "execution_count": 12,
      "metadata": {
        "colab": {
          "base_uri": "https://localhost:8080/",
          "height": 250
        },
        "id": "A2apqpHzdDCE",
        "outputId": "aa788e71-9a17-497c-9a7e-67faad022d43"
      },
      "outputs": [
        {
          "data": {
            "text/html": [
              "<div>\n",
              "<style scoped>\n",
              "    .dataframe tbody tr th:only-of-type {\n",
              "        vertical-align: middle;\n",
              "    }\n",
              "\n",
              "    .dataframe tbody tr th {\n",
              "        vertical-align: top;\n",
              "    }\n",
              "\n",
              "    .dataframe thead th {\n",
              "        text-align: right;\n",
              "    }\n",
              "</style>\n",
              "<table border=\"1\" class=\"dataframe\">\n",
              "  <thead>\n",
              "    <tr style=\"text-align: right;\">\n",
              "      <th></th>\n",
              "      <th>transaction_id</th>\n",
              "      <th>timestamp</th>\n",
              "      <th>product_id</th>\n",
              "      <th>category</th>\n",
              "      <th>customer_type</th>\n",
              "      <th>unit_price</th>\n",
              "      <th>quantity</th>\n",
              "      <th>total</th>\n",
              "      <th>payment_type</th>\n",
              "    </tr>\n",
              "  </thead>\n",
              "  <tbody>\n",
              "    <tr>\n",
              "      <th>0</th>\n",
              "      <td>a1c82654-c52c-45b3-8ce8-4c2a1efe63ed</td>\n",
              "      <td>2022-03-02 09:51:38</td>\n",
              "      <td>3bc6c1ea-0198-46de-9ffd-514ae3338713</td>\n",
              "      <td>fruit</td>\n",
              "      <td>gold</td>\n",
              "      <td>3.99</td>\n",
              "      <td>2</td>\n",
              "      <td>7.98</td>\n",
              "      <td>e-wallet</td>\n",
              "    </tr>\n",
              "    <tr>\n",
              "      <th>1</th>\n",
              "      <td>931ad550-09e8-4da6-beaa-8c9d17be9c60</td>\n",
              "      <td>2022-03-06 10:33:59</td>\n",
              "      <td>ad81b46c-bf38-41cf-9b54-5fe7f5eba93e</td>\n",
              "      <td>fruit</td>\n",
              "      <td>standard</td>\n",
              "      <td>3.99</td>\n",
              "      <td>1</td>\n",
              "      <td>3.99</td>\n",
              "      <td>e-wallet</td>\n",
              "    </tr>\n",
              "    <tr>\n",
              "      <th>2</th>\n",
              "      <td>ae133534-6f61-4cd6-b6b8-d1c1d8d90aea</td>\n",
              "      <td>2022-03-04 17:20:21</td>\n",
              "      <td>7c55cbd4-f306-4c04-a030-628cbe7867c1</td>\n",
              "      <td>fruit</td>\n",
              "      <td>premium</td>\n",
              "      <td>0.19</td>\n",
              "      <td>2</td>\n",
              "      <td>0.38</td>\n",
              "      <td>e-wallet</td>\n",
              "    </tr>\n",
              "    <tr>\n",
              "      <th>3</th>\n",
              "      <td>157cebd9-aaf0-475d-8a11-7c8e0f5b76e4</td>\n",
              "      <td>2022-03-02 17:23:58</td>\n",
              "      <td>80da8348-1707-403f-8be7-9e6deeccc883</td>\n",
              "      <td>fruit</td>\n",
              "      <td>gold</td>\n",
              "      <td>0.19</td>\n",
              "      <td>4</td>\n",
              "      <td>0.76</td>\n",
              "      <td>e-wallet</td>\n",
              "    </tr>\n",
              "    <tr>\n",
              "      <th>4</th>\n",
              "      <td>a81a6cd3-5e0c-44a2-826c-aea43e46c514</td>\n",
              "      <td>2022-03-05 14:32:43</td>\n",
              "      <td>7f5e86e6-f06f-45f6-bf44-27b095c9ad1d</td>\n",
              "      <td>fruit</td>\n",
              "      <td>basic</td>\n",
              "      <td>4.49</td>\n",
              "      <td>2</td>\n",
              "      <td>8.98</td>\n",
              "      <td>debit card</td>\n",
              "    </tr>\n",
              "  </tbody>\n",
              "</table>\n",
              "</div>"
            ],
            "text/plain": [
              "                         transaction_id           timestamp  \\\n",
              "0  a1c82654-c52c-45b3-8ce8-4c2a1efe63ed 2022-03-02 09:51:38   \n",
              "1  931ad550-09e8-4da6-beaa-8c9d17be9c60 2022-03-06 10:33:59   \n",
              "2  ae133534-6f61-4cd6-b6b8-d1c1d8d90aea 2022-03-04 17:20:21   \n",
              "3  157cebd9-aaf0-475d-8a11-7c8e0f5b76e4 2022-03-02 17:23:58   \n",
              "4  a81a6cd3-5e0c-44a2-826c-aea43e46c514 2022-03-05 14:32:43   \n",
              "\n",
              "                             product_id category customer_type  unit_price  \\\n",
              "0  3bc6c1ea-0198-46de-9ffd-514ae3338713    fruit          gold        3.99   \n",
              "1  ad81b46c-bf38-41cf-9b54-5fe7f5eba93e    fruit      standard        3.99   \n",
              "2  7c55cbd4-f306-4c04-a030-628cbe7867c1    fruit       premium        0.19   \n",
              "3  80da8348-1707-403f-8be7-9e6deeccc883    fruit          gold        0.19   \n",
              "4  7f5e86e6-f06f-45f6-bf44-27b095c9ad1d    fruit         basic        4.49   \n",
              "\n",
              "   quantity  total payment_type  \n",
              "0         2   7.98     e-wallet  \n",
              "1         1   3.99     e-wallet  \n",
              "2         2   0.38     e-wallet  \n",
              "3         4   0.76     e-wallet  \n",
              "4         2   8.98   debit card  "
            ]
          },
          "execution_count": 12,
          "metadata": {},
          "output_type": "execute_result"
        }
      ],
      "source": [
        "sales_df.head()"
      ]
    },
    {
      "cell_type": "code",
      "execution_count": 13,
      "metadata": {
        "id": "JEXM4gU3eE7X"
      },
      "outputs": [],
      "source": [
        "from datetime import datetime\n",
        "\n",
        "def convert_timestamp_to_hourly(data: pd.DataFrame = None, column: str = None):\n",
        "  '''\n",
        "  Backup input dataframe as a copy to avoid modifying the original data\n",
        "  Extract timestamp column as a list\n",
        "  Convert each time stamp to a string in the format 'YYYY-MM-DD HH:00:00' \n",
        "  Convert each string back to a datetime object\n",
        "  '''\n",
        "  dummy = data.copy()\n",
        "  new_ts = dummy[column].tolist()\n",
        "  new_ts = [i.strftime('%Y-%m-%d %H:00:00') for i in new_ts]\n",
        "  new_ts = [datetime.strptime(i, '%Y-%m-%d %H:00:00') for i in new_ts]\n",
        "  dummy[column] = new_ts\n",
        "  return dummy"
      ]
    },
    {
      "cell_type": "code",
      "execution_count": 14,
      "metadata": {
        "colab": {
          "base_uri": "https://localhost:8080/",
          "height": 250
        },
        "id": "-oZM0MSGfR4F",
        "outputId": "cb7cff0d-d3b0-4810-d33a-96ab859c5bb8"
      },
      "outputs": [
        {
          "data": {
            "text/html": [
              "<div>\n",
              "<style scoped>\n",
              "    .dataframe tbody tr th:only-of-type {\n",
              "        vertical-align: middle;\n",
              "    }\n",
              "\n",
              "    .dataframe tbody tr th {\n",
              "        vertical-align: top;\n",
              "    }\n",
              "\n",
              "    .dataframe thead th {\n",
              "        text-align: right;\n",
              "    }\n",
              "</style>\n",
              "<table border=\"1\" class=\"dataframe\">\n",
              "  <thead>\n",
              "    <tr style=\"text-align: right;\">\n",
              "      <th></th>\n",
              "      <th>transaction_id</th>\n",
              "      <th>timestamp</th>\n",
              "      <th>product_id</th>\n",
              "      <th>category</th>\n",
              "      <th>customer_type</th>\n",
              "      <th>unit_price</th>\n",
              "      <th>quantity</th>\n",
              "      <th>total</th>\n",
              "      <th>payment_type</th>\n",
              "    </tr>\n",
              "  </thead>\n",
              "  <tbody>\n",
              "    <tr>\n",
              "      <th>0</th>\n",
              "      <td>a1c82654-c52c-45b3-8ce8-4c2a1efe63ed</td>\n",
              "      <td>2022-03-02 09:00:00</td>\n",
              "      <td>3bc6c1ea-0198-46de-9ffd-514ae3338713</td>\n",
              "      <td>fruit</td>\n",
              "      <td>gold</td>\n",
              "      <td>3.99</td>\n",
              "      <td>2</td>\n",
              "      <td>7.98</td>\n",
              "      <td>e-wallet</td>\n",
              "    </tr>\n",
              "    <tr>\n",
              "      <th>1</th>\n",
              "      <td>931ad550-09e8-4da6-beaa-8c9d17be9c60</td>\n",
              "      <td>2022-03-06 10:00:00</td>\n",
              "      <td>ad81b46c-bf38-41cf-9b54-5fe7f5eba93e</td>\n",
              "      <td>fruit</td>\n",
              "      <td>standard</td>\n",
              "      <td>3.99</td>\n",
              "      <td>1</td>\n",
              "      <td>3.99</td>\n",
              "      <td>e-wallet</td>\n",
              "    </tr>\n",
              "    <tr>\n",
              "      <th>2</th>\n",
              "      <td>ae133534-6f61-4cd6-b6b8-d1c1d8d90aea</td>\n",
              "      <td>2022-03-04 17:00:00</td>\n",
              "      <td>7c55cbd4-f306-4c04-a030-628cbe7867c1</td>\n",
              "      <td>fruit</td>\n",
              "      <td>premium</td>\n",
              "      <td>0.19</td>\n",
              "      <td>2</td>\n",
              "      <td>0.38</td>\n",
              "      <td>e-wallet</td>\n",
              "    </tr>\n",
              "    <tr>\n",
              "      <th>3</th>\n",
              "      <td>157cebd9-aaf0-475d-8a11-7c8e0f5b76e4</td>\n",
              "      <td>2022-03-02 17:00:00</td>\n",
              "      <td>80da8348-1707-403f-8be7-9e6deeccc883</td>\n",
              "      <td>fruit</td>\n",
              "      <td>gold</td>\n",
              "      <td>0.19</td>\n",
              "      <td>4</td>\n",
              "      <td>0.76</td>\n",
              "      <td>e-wallet</td>\n",
              "    </tr>\n",
              "    <tr>\n",
              "      <th>4</th>\n",
              "      <td>a81a6cd3-5e0c-44a2-826c-aea43e46c514</td>\n",
              "      <td>2022-03-05 14:00:00</td>\n",
              "      <td>7f5e86e6-f06f-45f6-bf44-27b095c9ad1d</td>\n",
              "      <td>fruit</td>\n",
              "      <td>basic</td>\n",
              "      <td>4.49</td>\n",
              "      <td>2</td>\n",
              "      <td>8.98</td>\n",
              "      <td>debit card</td>\n",
              "    </tr>\n",
              "  </tbody>\n",
              "</table>\n",
              "</div>"
            ],
            "text/plain": [
              "                         transaction_id           timestamp  \\\n",
              "0  a1c82654-c52c-45b3-8ce8-4c2a1efe63ed 2022-03-02 09:00:00   \n",
              "1  931ad550-09e8-4da6-beaa-8c9d17be9c60 2022-03-06 10:00:00   \n",
              "2  ae133534-6f61-4cd6-b6b8-d1c1d8d90aea 2022-03-04 17:00:00   \n",
              "3  157cebd9-aaf0-475d-8a11-7c8e0f5b76e4 2022-03-02 17:00:00   \n",
              "4  a81a6cd3-5e0c-44a2-826c-aea43e46c514 2022-03-05 14:00:00   \n",
              "\n",
              "                             product_id category customer_type  unit_price  \\\n",
              "0  3bc6c1ea-0198-46de-9ffd-514ae3338713    fruit          gold        3.99   \n",
              "1  ad81b46c-bf38-41cf-9b54-5fe7f5eba93e    fruit      standard        3.99   \n",
              "2  7c55cbd4-f306-4c04-a030-628cbe7867c1    fruit       premium        0.19   \n",
              "3  80da8348-1707-403f-8be7-9e6deeccc883    fruit          gold        0.19   \n",
              "4  7f5e86e6-f06f-45f6-bf44-27b095c9ad1d    fruit         basic        4.49   \n",
              "\n",
              "   quantity  total payment_type  \n",
              "0         2   7.98     e-wallet  \n",
              "1         1   3.99     e-wallet  \n",
              "2         2   0.38     e-wallet  \n",
              "3         4   0.76     e-wallet  \n",
              "4         2   8.98   debit card  "
            ]
          },
          "execution_count": 14,
          "metadata": {},
          "output_type": "execute_result"
        }
      ],
      "source": [
        "sales_df = convert_timestamp_to_hourly(sales_df, 'timestamp')\n",
        "sales_df.head()"
      ]
    },
    {
      "cell_type": "code",
      "execution_count": 15,
      "metadata": {
        "colab": {
          "base_uri": "https://localhost:8080/",
          "height": 206
        },
        "id": "Ys6NqziAfXcd",
        "outputId": "a11faf17-2557-4f6d-e25f-5c77cd54e573"
      },
      "outputs": [
        {
          "data": {
            "text/html": [
              "<div>\n",
              "<style scoped>\n",
              "    .dataframe tbody tr th:only-of-type {\n",
              "        vertical-align: middle;\n",
              "    }\n",
              "\n",
              "    .dataframe tbody tr th {\n",
              "        vertical-align: top;\n",
              "    }\n",
              "\n",
              "    .dataframe thead th {\n",
              "        text-align: right;\n",
              "    }\n",
              "</style>\n",
              "<table border=\"1\" class=\"dataframe\">\n",
              "  <thead>\n",
              "    <tr style=\"text-align: right;\">\n",
              "      <th></th>\n",
              "      <th>id</th>\n",
              "      <th>timestamp</th>\n",
              "      <th>product_id</th>\n",
              "      <th>estimated_stock_pct</th>\n",
              "    </tr>\n",
              "  </thead>\n",
              "  <tbody>\n",
              "    <tr>\n",
              "      <th>0</th>\n",
              "      <td>4220e505-c247-478d-9831-6b9f87a4488a</td>\n",
              "      <td>2022-03-07 12:00:00</td>\n",
              "      <td>f658605e-75f3-4fed-a655-c0903f344427</td>\n",
              "      <td>0.75</td>\n",
              "    </tr>\n",
              "    <tr>\n",
              "      <th>1</th>\n",
              "      <td>f2612b26-fc82-49ea-8940-0751fdd4d9ef</td>\n",
              "      <td>2022-03-07 16:00:00</td>\n",
              "      <td>de06083a-f5c0-451d-b2f4-9ab88b52609d</td>\n",
              "      <td>0.48</td>\n",
              "    </tr>\n",
              "    <tr>\n",
              "      <th>2</th>\n",
              "      <td>989a287f-67e6-4478-aa49-c3a35dac0e2e</td>\n",
              "      <td>2022-03-01 18:00:00</td>\n",
              "      <td>ce8f3a04-d1a4-43b1-a7c2-fa1b8e7674c8</td>\n",
              "      <td>0.58</td>\n",
              "    </tr>\n",
              "    <tr>\n",
              "      <th>3</th>\n",
              "      <td>af8e5683-d247-46ac-9909-1a77bdebefb2</td>\n",
              "      <td>2022-03-02 14:00:00</td>\n",
              "      <td>c21e3ba9-92a3-4745-92c2-6faef73223f7</td>\n",
              "      <td>0.79</td>\n",
              "    </tr>\n",
              "    <tr>\n",
              "      <th>4</th>\n",
              "      <td>08a32247-3f44-4002-85fb-c198434dd4bb</td>\n",
              "      <td>2022-03-02 13:00:00</td>\n",
              "      <td>7f478817-aa5b-44e9-9059-8045228c9eb0</td>\n",
              "      <td>0.22</td>\n",
              "    </tr>\n",
              "  </tbody>\n",
              "</table>\n",
              "</div>"
            ],
            "text/plain": [
              "                                     id           timestamp  \\\n",
              "0  4220e505-c247-478d-9831-6b9f87a4488a 2022-03-07 12:00:00   \n",
              "1  f2612b26-fc82-49ea-8940-0751fdd4d9ef 2022-03-07 16:00:00   \n",
              "2  989a287f-67e6-4478-aa49-c3a35dac0e2e 2022-03-01 18:00:00   \n",
              "3  af8e5683-d247-46ac-9909-1a77bdebefb2 2022-03-02 14:00:00   \n",
              "4  08a32247-3f44-4002-85fb-c198434dd4bb 2022-03-02 13:00:00   \n",
              "\n",
              "                             product_id  estimated_stock_pct  \n",
              "0  f658605e-75f3-4fed-a655-c0903f344427                 0.75  \n",
              "1  de06083a-f5c0-451d-b2f4-9ab88b52609d                 0.48  \n",
              "2  ce8f3a04-d1a4-43b1-a7c2-fa1b8e7674c8                 0.58  \n",
              "3  c21e3ba9-92a3-4745-92c2-6faef73223f7                 0.79  \n",
              "4  7f478817-aa5b-44e9-9059-8045228c9eb0                 0.22  "
            ]
          },
          "execution_count": 15,
          "metadata": {},
          "output_type": "execute_result"
        }
      ],
      "source": [
        "stock_df = convert_timestamp_to_hourly(stock_df, 'timestamp')\n",
        "stock_df.head()"
      ]
    },
    {
      "cell_type": "code",
      "execution_count": 16,
      "metadata": {
        "colab": {
          "base_uri": "https://localhost:8080/",
          "height": 206
        },
        "id": "2IeuVs6dfZCe",
        "outputId": "c0b000d7-e304-4ec1-ad14-e6c9905431f6"
      },
      "outputs": [
        {
          "data": {
            "text/html": [
              "<div>\n",
              "<style scoped>\n",
              "    .dataframe tbody tr th:only-of-type {\n",
              "        vertical-align: middle;\n",
              "    }\n",
              "\n",
              "    .dataframe tbody tr th {\n",
              "        vertical-align: top;\n",
              "    }\n",
              "\n",
              "    .dataframe thead th {\n",
              "        text-align: right;\n",
              "    }\n",
              "</style>\n",
              "<table border=\"1\" class=\"dataframe\">\n",
              "  <thead>\n",
              "    <tr style=\"text-align: right;\">\n",
              "      <th></th>\n",
              "      <th>id</th>\n",
              "      <th>timestamp</th>\n",
              "      <th>temperature</th>\n",
              "    </tr>\n",
              "  </thead>\n",
              "  <tbody>\n",
              "    <tr>\n",
              "      <th>0</th>\n",
              "      <td>d1ca1ef8-0eac-42fc-af80-97106efc7b13</td>\n",
              "      <td>2022-03-07 15:00:00</td>\n",
              "      <td>2.96</td>\n",
              "    </tr>\n",
              "    <tr>\n",
              "      <th>1</th>\n",
              "      <td>4b8a66c4-0f3a-4f16-826f-8cf9397e9d18</td>\n",
              "      <td>2022-03-01 09:00:00</td>\n",
              "      <td>1.88</td>\n",
              "    </tr>\n",
              "    <tr>\n",
              "      <th>2</th>\n",
              "      <td>3d47a0c7-1e72-4512-812f-b6b5d8428cf3</td>\n",
              "      <td>2022-03-04 15:00:00</td>\n",
              "      <td>1.78</td>\n",
              "    </tr>\n",
              "    <tr>\n",
              "      <th>3</th>\n",
              "      <td>9500357b-ce15-424a-837a-7677b386f471</td>\n",
              "      <td>2022-03-02 12:00:00</td>\n",
              "      <td>2.18</td>\n",
              "    </tr>\n",
              "    <tr>\n",
              "      <th>4</th>\n",
              "      <td>c4b61fec-99c2-4c6d-8e5d-4edd8c9632fa</td>\n",
              "      <td>2022-03-05 09:00:00</td>\n",
              "      <td>1.38</td>\n",
              "    </tr>\n",
              "  </tbody>\n",
              "</table>\n",
              "</div>"
            ],
            "text/plain": [
              "                                     id           timestamp  temperature\n",
              "0  d1ca1ef8-0eac-42fc-af80-97106efc7b13 2022-03-07 15:00:00         2.96\n",
              "1  4b8a66c4-0f3a-4f16-826f-8cf9397e9d18 2022-03-01 09:00:00         1.88\n",
              "2  3d47a0c7-1e72-4512-812f-b6b5d8428cf3 2022-03-04 15:00:00         1.78\n",
              "3  9500357b-ce15-424a-837a-7677b386f471 2022-03-02 12:00:00         2.18\n",
              "4  c4b61fec-99c2-4c6d-8e5d-4edd8c9632fa 2022-03-05 09:00:00         1.38"
            ]
          },
          "execution_count": 16,
          "metadata": {},
          "output_type": "execute_result"
        }
      ],
      "source": [
        "temp_df = convert_timestamp_to_hourly(temp_df, 'timestamp')\n",
        "temp_df.head()"
      ]
    },
    {
      "cell_type": "markdown",
      "metadata": {
        "id": "ZHvZOuKmfwkS"
      },
      "source": [
        "Now you can see all of the `timestamp` columns have had the minutes and seconds reduced to `00`. The next thing to do, is to aggregate the datasets in order to combine rows which have the same value for `timestamp`.\n",
        "\n",
        "For the `sales` data, we want to group the data by `timestamp` but also by `product_id`. When we aggregate, we must choose which columns to aggregate by the grouping. For now, let's aggregate quantity."
      ]
    },
    {
      "cell_type": "code",
      "execution_count": 17,
      "metadata": {
        "colab": {
          "base_uri": "https://localhost:8080/",
          "height": 206
        },
        "id": "SuBCwB-JfvcA",
        "outputId": "6718daec-4348-4f28-b339-37e6dd94e2af"
      },
      "outputs": [
        {
          "data": {
            "text/html": [
              "<div>\n",
              "<style scoped>\n",
              "    .dataframe tbody tr th:only-of-type {\n",
              "        vertical-align: middle;\n",
              "    }\n",
              "\n",
              "    .dataframe tbody tr th {\n",
              "        vertical-align: top;\n",
              "    }\n",
              "\n",
              "    .dataframe thead th {\n",
              "        text-align: right;\n",
              "    }\n",
              "</style>\n",
              "<table border=\"1\" class=\"dataframe\">\n",
              "  <thead>\n",
              "    <tr style=\"text-align: right;\">\n",
              "      <th></th>\n",
              "      <th>timestamp</th>\n",
              "      <th>product_id</th>\n",
              "      <th>quantity</th>\n",
              "    </tr>\n",
              "  </thead>\n",
              "  <tbody>\n",
              "    <tr>\n",
              "      <th>0</th>\n",
              "      <td>2022-03-01 09:00:00</td>\n",
              "      <td>00e120bb-89d6-4df5-bc48-a051148e3d03</td>\n",
              "      <td>3</td>\n",
              "    </tr>\n",
              "    <tr>\n",
              "      <th>1</th>\n",
              "      <td>2022-03-01 09:00:00</td>\n",
              "      <td>01f3cdd9-8e9e-4dff-9b5c-69698a0388d0</td>\n",
              "      <td>3</td>\n",
              "    </tr>\n",
              "    <tr>\n",
              "      <th>2</th>\n",
              "      <td>2022-03-01 09:00:00</td>\n",
              "      <td>03a2557a-aa12-4add-a6d4-77dc36342067</td>\n",
              "      <td>3</td>\n",
              "    </tr>\n",
              "    <tr>\n",
              "      <th>3</th>\n",
              "      <td>2022-03-01 09:00:00</td>\n",
              "      <td>049b2171-0eeb-4a3e-bf98-0c290c7821da</td>\n",
              "      <td>7</td>\n",
              "    </tr>\n",
              "    <tr>\n",
              "      <th>4</th>\n",
              "      <td>2022-03-01 09:00:00</td>\n",
              "      <td>04da844d-8dba-4470-9119-e534d52a03a0</td>\n",
              "      <td>11</td>\n",
              "    </tr>\n",
              "  </tbody>\n",
              "</table>\n",
              "</div>"
            ],
            "text/plain": [
              "            timestamp                            product_id  quantity\n",
              "0 2022-03-01 09:00:00  00e120bb-89d6-4df5-bc48-a051148e3d03         3\n",
              "1 2022-03-01 09:00:00  01f3cdd9-8e9e-4dff-9b5c-69698a0388d0         3\n",
              "2 2022-03-01 09:00:00  03a2557a-aa12-4add-a6d4-77dc36342067         3\n",
              "3 2022-03-01 09:00:00  049b2171-0eeb-4a3e-bf98-0c290c7821da         7\n",
              "4 2022-03-01 09:00:00  04da844d-8dba-4470-9119-e534d52a03a0        11"
            ]
          },
          "execution_count": 17,
          "metadata": {},
          "output_type": "execute_result"
        }
      ],
      "source": [
        "sales_agg = sales_df.groupby(['timestamp', 'product_id']).agg({'quantity': 'sum'}).reset_index()\n",
        "sales_agg.head()"
      ]
    },
    {
      "cell_type": "markdown",
      "metadata": {
        "id": "HrBk1vqXhMhV"
      },
      "source": [
        "We now have an aggregated sales data where each row represents a unique combination of hour during which the sales took place from that weeks worth of data and the product_id. We summed the quantity and we took the mean average of the unit_price.\n",
        "\n",
        "For the stock data, we want to group it in the same way and aggregate the `estimated_stock_pct`."
      ]
    },
    {
      "cell_type": "code",
      "execution_count": 18,
      "metadata": {
        "colab": {
          "base_uri": "https://localhost:8080/",
          "height": 206
        },
        "id": "K8SUtuP7hIon",
        "outputId": "a573073c-8a32-47aa-bb36-a5bfc387ee42"
      },
      "outputs": [
        {
          "data": {
            "text/html": [
              "<div>\n",
              "<style scoped>\n",
              "    .dataframe tbody tr th:only-of-type {\n",
              "        vertical-align: middle;\n",
              "    }\n",
              "\n",
              "    .dataframe tbody tr th {\n",
              "        vertical-align: top;\n",
              "    }\n",
              "\n",
              "    .dataframe thead th {\n",
              "        text-align: right;\n",
              "    }\n",
              "</style>\n",
              "<table border=\"1\" class=\"dataframe\">\n",
              "  <thead>\n",
              "    <tr style=\"text-align: right;\">\n",
              "      <th></th>\n",
              "      <th>timestamp</th>\n",
              "      <th>product_id</th>\n",
              "      <th>estimated_stock_pct</th>\n",
              "    </tr>\n",
              "  </thead>\n",
              "  <tbody>\n",
              "    <tr>\n",
              "      <th>0</th>\n",
              "      <td>2022-03-01 09:00:00</td>\n",
              "      <td>00e120bb-89d6-4df5-bc48-a051148e3d03</td>\n",
              "      <td>0.89</td>\n",
              "    </tr>\n",
              "    <tr>\n",
              "      <th>1</th>\n",
              "      <td>2022-03-01 09:00:00</td>\n",
              "      <td>01f3cdd9-8e9e-4dff-9b5c-69698a0388d0</td>\n",
              "      <td>0.14</td>\n",
              "    </tr>\n",
              "    <tr>\n",
              "      <th>2</th>\n",
              "      <td>2022-03-01 09:00:00</td>\n",
              "      <td>01ff0803-ae73-4234-971d-5713c97b7f4b</td>\n",
              "      <td>0.67</td>\n",
              "    </tr>\n",
              "    <tr>\n",
              "      <th>3</th>\n",
              "      <td>2022-03-01 09:00:00</td>\n",
              "      <td>0363eb21-8c74-47e1-a216-c37e565e5ceb</td>\n",
              "      <td>0.82</td>\n",
              "    </tr>\n",
              "    <tr>\n",
              "      <th>4</th>\n",
              "      <td>2022-03-01 09:00:00</td>\n",
              "      <td>03f0b20e-3b5b-444f-bc39-cdfa2523d4bc</td>\n",
              "      <td>0.05</td>\n",
              "    </tr>\n",
              "  </tbody>\n",
              "</table>\n",
              "</div>"
            ],
            "text/plain": [
              "            timestamp                            product_id  \\\n",
              "0 2022-03-01 09:00:00  00e120bb-89d6-4df5-bc48-a051148e3d03   \n",
              "1 2022-03-01 09:00:00  01f3cdd9-8e9e-4dff-9b5c-69698a0388d0   \n",
              "2 2022-03-01 09:00:00  01ff0803-ae73-4234-971d-5713c97b7f4b   \n",
              "3 2022-03-01 09:00:00  0363eb21-8c74-47e1-a216-c37e565e5ceb   \n",
              "4 2022-03-01 09:00:00  03f0b20e-3b5b-444f-bc39-cdfa2523d4bc   \n",
              "\n",
              "   estimated_stock_pct  \n",
              "0                 0.89  \n",
              "1                 0.14  \n",
              "2                 0.67  \n",
              "3                 0.82  \n",
              "4                 0.05  "
            ]
          },
          "execution_count": 18,
          "metadata": {},
          "output_type": "execute_result"
        }
      ],
      "source": [
        "stock_agg = stock_df.groupby(['timestamp', 'product_id']).agg({'estimated_stock_pct': 'mean'}).reset_index()\n",
        "stock_agg.head()"
      ]
    },
    {
      "cell_type": "markdown",
      "metadata": {
        "id": "nNAr21YThzky"
      },
      "source": [
        "This shows us the average stock percentage of each product at unique hours within the week of sample data.\n",
        "\n",
        "Finally, for the temperature data, product_id does not exist in this table, so we simply need to group by timestamp and aggregate the `temperature`."
      ]
    },
    {
      "cell_type": "code",
      "execution_count": 19,
      "metadata": {
        "colab": {
          "base_uri": "https://localhost:8080/",
          "height": 206
        },
        "id": "QLQ_DTz4hwoC",
        "outputId": "06f656ff-da5a-4b4f-8100-e007eb3bc71e"
      },
      "outputs": [
        {
          "data": {
            "text/html": [
              "<div>\n",
              "<style scoped>\n",
              "    .dataframe tbody tr th:only-of-type {\n",
              "        vertical-align: middle;\n",
              "    }\n",
              "\n",
              "    .dataframe tbody tr th {\n",
              "        vertical-align: top;\n",
              "    }\n",
              "\n",
              "    .dataframe thead th {\n",
              "        text-align: right;\n",
              "    }\n",
              "</style>\n",
              "<table border=\"1\" class=\"dataframe\">\n",
              "  <thead>\n",
              "    <tr style=\"text-align: right;\">\n",
              "      <th></th>\n",
              "      <th>timestamp</th>\n",
              "      <th>temperature</th>\n",
              "    </tr>\n",
              "  </thead>\n",
              "  <tbody>\n",
              "    <tr>\n",
              "      <th>0</th>\n",
              "      <td>2022-03-01 09:00:00</td>\n",
              "      <td>-0.028850</td>\n",
              "    </tr>\n",
              "    <tr>\n",
              "      <th>1</th>\n",
              "      <td>2022-03-01 10:00:00</td>\n",
              "      <td>1.284314</td>\n",
              "    </tr>\n",
              "    <tr>\n",
              "      <th>2</th>\n",
              "      <td>2022-03-01 11:00:00</td>\n",
              "      <td>-0.560000</td>\n",
              "    </tr>\n",
              "    <tr>\n",
              "      <th>3</th>\n",
              "      <td>2022-03-01 12:00:00</td>\n",
              "      <td>-0.537721</td>\n",
              "    </tr>\n",
              "    <tr>\n",
              "      <th>4</th>\n",
              "      <td>2022-03-01 13:00:00</td>\n",
              "      <td>-0.188734</td>\n",
              "    </tr>\n",
              "  </tbody>\n",
              "</table>\n",
              "</div>"
            ],
            "text/plain": [
              "            timestamp  temperature\n",
              "0 2022-03-01 09:00:00    -0.028850\n",
              "1 2022-03-01 10:00:00     1.284314\n",
              "2 2022-03-01 11:00:00    -0.560000\n",
              "3 2022-03-01 12:00:00    -0.537721\n",
              "4 2022-03-01 13:00:00    -0.188734"
            ]
          },
          "execution_count": 19,
          "metadata": {},
          "output_type": "execute_result"
        }
      ],
      "source": [
        "temp_agg = temp_df.groupby(['timestamp']).agg({'temperature': 'mean'}).reset_index()\n",
        "temp_agg.head()"
      ]
    },
    {
      "cell_type": "markdown",
      "metadata": {
        "id": "xnQBcw3PiIui"
      },
      "source": [
        "This gives us the average temperature of the storage facility where the produce is stored in the warehouse by unique hours during the week. Now, we are ready to merge our data. We will use the `stock_agg` table as our base table, and we will merge our other 2 tables onto this."
      ]
    },
    {
      "cell_type": "code",
      "execution_count": 20,
      "metadata": {
        "colab": {
          "base_uri": "https://localhost:8080/",
          "height": 206
        },
        "id": "wdal46aQhxm0",
        "outputId": "e96accac-8c1b-4fca-cd99-02782eef0b7a"
      },
      "outputs": [
        {
          "data": {
            "text/html": [
              "<div>\n",
              "<style scoped>\n",
              "    .dataframe tbody tr th:only-of-type {\n",
              "        vertical-align: middle;\n",
              "    }\n",
              "\n",
              "    .dataframe tbody tr th {\n",
              "        vertical-align: top;\n",
              "    }\n",
              "\n",
              "    .dataframe thead th {\n",
              "        text-align: right;\n",
              "    }\n",
              "</style>\n",
              "<table border=\"1\" class=\"dataframe\">\n",
              "  <thead>\n",
              "    <tr style=\"text-align: right;\">\n",
              "      <th></th>\n",
              "      <th>timestamp</th>\n",
              "      <th>product_id</th>\n",
              "      <th>estimated_stock_pct</th>\n",
              "      <th>quantity</th>\n",
              "    </tr>\n",
              "  </thead>\n",
              "  <tbody>\n",
              "    <tr>\n",
              "      <th>0</th>\n",
              "      <td>2022-03-01 09:00:00</td>\n",
              "      <td>00e120bb-89d6-4df5-bc48-a051148e3d03</td>\n",
              "      <td>0.89</td>\n",
              "      <td>3.0</td>\n",
              "    </tr>\n",
              "    <tr>\n",
              "      <th>1</th>\n",
              "      <td>2022-03-01 09:00:00</td>\n",
              "      <td>01f3cdd9-8e9e-4dff-9b5c-69698a0388d0</td>\n",
              "      <td>0.14</td>\n",
              "      <td>3.0</td>\n",
              "    </tr>\n",
              "    <tr>\n",
              "      <th>2</th>\n",
              "      <td>2022-03-01 09:00:00</td>\n",
              "      <td>01ff0803-ae73-4234-971d-5713c97b7f4b</td>\n",
              "      <td>0.67</td>\n",
              "      <td>NaN</td>\n",
              "    </tr>\n",
              "    <tr>\n",
              "      <th>3</th>\n",
              "      <td>2022-03-01 09:00:00</td>\n",
              "      <td>0363eb21-8c74-47e1-a216-c37e565e5ceb</td>\n",
              "      <td>0.82</td>\n",
              "      <td>NaN</td>\n",
              "    </tr>\n",
              "    <tr>\n",
              "      <th>4</th>\n",
              "      <td>2022-03-01 09:00:00</td>\n",
              "      <td>03f0b20e-3b5b-444f-bc39-cdfa2523d4bc</td>\n",
              "      <td>0.05</td>\n",
              "      <td>NaN</td>\n",
              "    </tr>\n",
              "  </tbody>\n",
              "</table>\n",
              "</div>"
            ],
            "text/plain": [
              "            timestamp                            product_id  \\\n",
              "0 2022-03-01 09:00:00  00e120bb-89d6-4df5-bc48-a051148e3d03   \n",
              "1 2022-03-01 09:00:00  01f3cdd9-8e9e-4dff-9b5c-69698a0388d0   \n",
              "2 2022-03-01 09:00:00  01ff0803-ae73-4234-971d-5713c97b7f4b   \n",
              "3 2022-03-01 09:00:00  0363eb21-8c74-47e1-a216-c37e565e5ceb   \n",
              "4 2022-03-01 09:00:00  03f0b20e-3b5b-444f-bc39-cdfa2523d4bc   \n",
              "\n",
              "   estimated_stock_pct  quantity  \n",
              "0                 0.89       3.0  \n",
              "1                 0.14       3.0  \n",
              "2                 0.67       NaN  \n",
              "3                 0.82       NaN  \n",
              "4                 0.05       NaN  "
            ]
          },
          "execution_count": 20,
          "metadata": {},
          "output_type": "execute_result"
        }
      ],
      "source": [
        "merged_df = stock_agg.merge(sales_agg, on=['timestamp', 'product_id'], how='left')\n",
        "merged_df.head()"
      ]
    },
    {
      "cell_type": "code",
      "execution_count": 21,
      "metadata": {
        "colab": {
          "base_uri": "https://localhost:8080/",
          "height": 206
        },
        "id": "iMJXyKBhif5q",
        "outputId": "4696fac2-b4e8-4c34-f40f-ff08c738b561"
      },
      "outputs": [
        {
          "data": {
            "text/html": [
              "<div>\n",
              "<style scoped>\n",
              "    .dataframe tbody tr th:only-of-type {\n",
              "        vertical-align: middle;\n",
              "    }\n",
              "\n",
              "    .dataframe tbody tr th {\n",
              "        vertical-align: top;\n",
              "    }\n",
              "\n",
              "    .dataframe thead th {\n",
              "        text-align: right;\n",
              "    }\n",
              "</style>\n",
              "<table border=\"1\" class=\"dataframe\">\n",
              "  <thead>\n",
              "    <tr style=\"text-align: right;\">\n",
              "      <th></th>\n",
              "      <th>timestamp</th>\n",
              "      <th>product_id</th>\n",
              "      <th>estimated_stock_pct</th>\n",
              "      <th>quantity</th>\n",
              "      <th>temperature</th>\n",
              "    </tr>\n",
              "  </thead>\n",
              "  <tbody>\n",
              "    <tr>\n",
              "      <th>0</th>\n",
              "      <td>2022-03-01 09:00:00</td>\n",
              "      <td>00e120bb-89d6-4df5-bc48-a051148e3d03</td>\n",
              "      <td>0.89</td>\n",
              "      <td>3.0</td>\n",
              "      <td>-0.02885</td>\n",
              "    </tr>\n",
              "    <tr>\n",
              "      <th>1</th>\n",
              "      <td>2022-03-01 09:00:00</td>\n",
              "      <td>01f3cdd9-8e9e-4dff-9b5c-69698a0388d0</td>\n",
              "      <td>0.14</td>\n",
              "      <td>3.0</td>\n",
              "      <td>-0.02885</td>\n",
              "    </tr>\n",
              "    <tr>\n",
              "      <th>2</th>\n",
              "      <td>2022-03-01 09:00:00</td>\n",
              "      <td>01ff0803-ae73-4234-971d-5713c97b7f4b</td>\n",
              "      <td>0.67</td>\n",
              "      <td>NaN</td>\n",
              "      <td>-0.02885</td>\n",
              "    </tr>\n",
              "    <tr>\n",
              "      <th>3</th>\n",
              "      <td>2022-03-01 09:00:00</td>\n",
              "      <td>0363eb21-8c74-47e1-a216-c37e565e5ceb</td>\n",
              "      <td>0.82</td>\n",
              "      <td>NaN</td>\n",
              "      <td>-0.02885</td>\n",
              "    </tr>\n",
              "    <tr>\n",
              "      <th>4</th>\n",
              "      <td>2022-03-01 09:00:00</td>\n",
              "      <td>03f0b20e-3b5b-444f-bc39-cdfa2523d4bc</td>\n",
              "      <td>0.05</td>\n",
              "      <td>NaN</td>\n",
              "      <td>-0.02885</td>\n",
              "    </tr>\n",
              "  </tbody>\n",
              "</table>\n",
              "</div>"
            ],
            "text/plain": [
              "            timestamp                            product_id  \\\n",
              "0 2022-03-01 09:00:00  00e120bb-89d6-4df5-bc48-a051148e3d03   \n",
              "1 2022-03-01 09:00:00  01f3cdd9-8e9e-4dff-9b5c-69698a0388d0   \n",
              "2 2022-03-01 09:00:00  01ff0803-ae73-4234-971d-5713c97b7f4b   \n",
              "3 2022-03-01 09:00:00  0363eb21-8c74-47e1-a216-c37e565e5ceb   \n",
              "4 2022-03-01 09:00:00  03f0b20e-3b5b-444f-bc39-cdfa2523d4bc   \n",
              "\n",
              "   estimated_stock_pct  quantity  temperature  \n",
              "0                 0.89       3.0     -0.02885  \n",
              "1                 0.14       3.0     -0.02885  \n",
              "2                 0.67       NaN     -0.02885  \n",
              "3                 0.82       NaN     -0.02885  \n",
              "4                 0.05       NaN     -0.02885  "
            ]
          },
          "execution_count": 21,
          "metadata": {},
          "output_type": "execute_result"
        }
      ],
      "source": [
        "merged_df = merged_df.merge(temp_agg, on='timestamp', how='left')\n",
        "merged_df.head()"
      ]
    },
    {
      "cell_type": "code",
      "execution_count": 22,
      "metadata": {
        "colab": {
          "base_uri": "https://localhost:8080/"
        },
        "id": "aqItnN4yig-1",
        "outputId": "509e67f6-2cb6-4151-8557-e2d6e9a32439"
      },
      "outputs": [
        {
          "name": "stdout",
          "output_type": "stream",
          "text": [
            "<class 'pandas.core.frame.DataFrame'>\n",
            "RangeIndex: 10845 entries, 0 to 10844\n",
            "Data columns (total 5 columns):\n",
            " #   Column               Non-Null Count  Dtype         \n",
            "---  ------               --------------  -----         \n",
            " 0   timestamp            10845 non-null  datetime64[ns]\n",
            " 1   product_id           10845 non-null  object        \n",
            " 2   estimated_stock_pct  10845 non-null  float64       \n",
            " 3   quantity             3067 non-null   float64       \n",
            " 4   temperature          10845 non-null  float64       \n",
            "dtypes: datetime64[ns](1), float64(3), object(1)\n",
            "memory usage: 423.8+ KB\n"
          ]
        }
      ],
      "source": [
        "merged_df.info()"
      ]
    },
    {
      "cell_type": "markdown",
      "metadata": {
        "id": "Ra8NCukzjkr-"
      },
      "source": [
        "We can see from the `.info()` method that we have some null values. These need to be treated before we can build a predictive model. The column that features some null values is `quantity`. We can assume that if there is a null value for this column, it represents that there were 0 sales of this product within this hour. So, lets fill this columns null values with 0, however, we should verify this with the client, in order to make sure we're not making any assumptions by filling these null values with 0."
      ]
    },
    {
      "cell_type": "code",
      "execution_count": 23,
      "metadata": {
        "colab": {
          "base_uri": "https://localhost:8080/"
        },
        "id": "uZxXCcNAjfgG",
        "outputId": "a8778d1a-5a5b-4464-c531-c4de545f6624"
      },
      "outputs": [
        {
          "name": "stdout",
          "output_type": "stream",
          "text": [
            "<class 'pandas.core.frame.DataFrame'>\n",
            "RangeIndex: 10845 entries, 0 to 10844\n",
            "Data columns (total 5 columns):\n",
            " #   Column               Non-Null Count  Dtype         \n",
            "---  ------               --------------  -----         \n",
            " 0   timestamp            10845 non-null  datetime64[ns]\n",
            " 1   product_id           10845 non-null  object        \n",
            " 2   estimated_stock_pct  10845 non-null  float64       \n",
            " 3   quantity             10845 non-null  float64       \n",
            " 4   temperature          10845 non-null  float64       \n",
            "dtypes: datetime64[ns](1), float64(3), object(1)\n",
            "memory usage: 423.8+ KB\n"
          ]
        }
      ],
      "source": [
        "merged_df['quantity'] = merged_df['quantity'].fillna(0)\n",
        "merged_df.info()"
      ]
    },
    {
      "cell_type": "markdown",
      "metadata": {
        "id": "YmS-GbxdkDkE"
      },
      "source": [
        "We can combine some more features onto this table too, including `category` and `unit_price`."
      ]
    },
    {
      "cell_type": "code",
      "execution_count": 24,
      "metadata": {
        "id": "staDsWixj-C3"
      },
      "outputs": [],
      "source": [
        "product_categories = sales_df[['product_id', 'category']]\n",
        "product_categories = product_categories.drop_duplicates()\n",
        "\n",
        "product_price = sales_df[['product_id', 'unit_price']]\n",
        "product_price = product_price.drop_duplicates()"
      ]
    },
    {
      "cell_type": "code",
      "execution_count": 25,
      "metadata": {
        "colab": {
          "base_uri": "https://localhost:8080/",
          "height": 206
        },
        "id": "OF3FwuLdkWZ8",
        "outputId": "d6c0f865-b34e-4ea9-c5f3-36c2092796ed"
      },
      "outputs": [
        {
          "data": {
            "text/html": [
              "<div>\n",
              "<style scoped>\n",
              "    .dataframe tbody tr th:only-of-type {\n",
              "        vertical-align: middle;\n",
              "    }\n",
              "\n",
              "    .dataframe tbody tr th {\n",
              "        vertical-align: top;\n",
              "    }\n",
              "\n",
              "    .dataframe thead th {\n",
              "        text-align: right;\n",
              "    }\n",
              "</style>\n",
              "<table border=\"1\" class=\"dataframe\">\n",
              "  <thead>\n",
              "    <tr style=\"text-align: right;\">\n",
              "      <th></th>\n",
              "      <th>timestamp</th>\n",
              "      <th>product_id</th>\n",
              "      <th>estimated_stock_pct</th>\n",
              "      <th>quantity</th>\n",
              "      <th>temperature</th>\n",
              "      <th>category</th>\n",
              "    </tr>\n",
              "  </thead>\n",
              "  <tbody>\n",
              "    <tr>\n",
              "      <th>0</th>\n",
              "      <td>2022-03-01 09:00:00</td>\n",
              "      <td>00e120bb-89d6-4df5-bc48-a051148e3d03</td>\n",
              "      <td>0.89</td>\n",
              "      <td>3.0</td>\n",
              "      <td>-0.02885</td>\n",
              "      <td>kitchen</td>\n",
              "    </tr>\n",
              "    <tr>\n",
              "      <th>1</th>\n",
              "      <td>2022-03-01 09:00:00</td>\n",
              "      <td>01f3cdd9-8e9e-4dff-9b5c-69698a0388d0</td>\n",
              "      <td>0.14</td>\n",
              "      <td>3.0</td>\n",
              "      <td>-0.02885</td>\n",
              "      <td>vegetables</td>\n",
              "    </tr>\n",
              "    <tr>\n",
              "      <th>2</th>\n",
              "      <td>2022-03-01 09:00:00</td>\n",
              "      <td>01ff0803-ae73-4234-971d-5713c97b7f4b</td>\n",
              "      <td>0.67</td>\n",
              "      <td>0.0</td>\n",
              "      <td>-0.02885</td>\n",
              "      <td>baby products</td>\n",
              "    </tr>\n",
              "    <tr>\n",
              "      <th>3</th>\n",
              "      <td>2022-03-01 09:00:00</td>\n",
              "      <td>0363eb21-8c74-47e1-a216-c37e565e5ceb</td>\n",
              "      <td>0.82</td>\n",
              "      <td>0.0</td>\n",
              "      <td>-0.02885</td>\n",
              "      <td>beverages</td>\n",
              "    </tr>\n",
              "    <tr>\n",
              "      <th>4</th>\n",
              "      <td>2022-03-01 09:00:00</td>\n",
              "      <td>03f0b20e-3b5b-444f-bc39-cdfa2523d4bc</td>\n",
              "      <td>0.05</td>\n",
              "      <td>0.0</td>\n",
              "      <td>-0.02885</td>\n",
              "      <td>pets</td>\n",
              "    </tr>\n",
              "  </tbody>\n",
              "</table>\n",
              "</div>"
            ],
            "text/plain": [
              "            timestamp                            product_id  \\\n",
              "0 2022-03-01 09:00:00  00e120bb-89d6-4df5-bc48-a051148e3d03   \n",
              "1 2022-03-01 09:00:00  01f3cdd9-8e9e-4dff-9b5c-69698a0388d0   \n",
              "2 2022-03-01 09:00:00  01ff0803-ae73-4234-971d-5713c97b7f4b   \n",
              "3 2022-03-01 09:00:00  0363eb21-8c74-47e1-a216-c37e565e5ceb   \n",
              "4 2022-03-01 09:00:00  03f0b20e-3b5b-444f-bc39-cdfa2523d4bc   \n",
              "\n",
              "   estimated_stock_pct  quantity  temperature       category  \n",
              "0                 0.89       3.0     -0.02885        kitchen  \n",
              "1                 0.14       3.0     -0.02885     vegetables  \n",
              "2                 0.67       0.0     -0.02885  baby products  \n",
              "3                 0.82       0.0     -0.02885      beverages  \n",
              "4                 0.05       0.0     -0.02885           pets  "
            ]
          },
          "execution_count": 25,
          "metadata": {},
          "output_type": "execute_result"
        }
      ],
      "source": [
        "merged_df = merged_df.merge(product_categories, on=\"product_id\", how=\"left\")\n",
        "merged_df.head()"
      ]
    },
    {
      "cell_type": "code",
      "execution_count": 26,
      "metadata": {
        "colab": {
          "base_uri": "https://localhost:8080/",
          "height": 206
        },
        "id": "hLq3yNFLk6ut",
        "outputId": "6b7d48ee-191c-47ab-b20e-c6b2aa4d880a"
      },
      "outputs": [
        {
          "data": {
            "text/html": [
              "<div>\n",
              "<style scoped>\n",
              "    .dataframe tbody tr th:only-of-type {\n",
              "        vertical-align: middle;\n",
              "    }\n",
              "\n",
              "    .dataframe tbody tr th {\n",
              "        vertical-align: top;\n",
              "    }\n",
              "\n",
              "    .dataframe thead th {\n",
              "        text-align: right;\n",
              "    }\n",
              "</style>\n",
              "<table border=\"1\" class=\"dataframe\">\n",
              "  <thead>\n",
              "    <tr style=\"text-align: right;\">\n",
              "      <th></th>\n",
              "      <th>timestamp</th>\n",
              "      <th>product_id</th>\n",
              "      <th>estimated_stock_pct</th>\n",
              "      <th>quantity</th>\n",
              "      <th>temperature</th>\n",
              "      <th>category</th>\n",
              "      <th>unit_price</th>\n",
              "    </tr>\n",
              "  </thead>\n",
              "  <tbody>\n",
              "    <tr>\n",
              "      <th>0</th>\n",
              "      <td>2022-03-01 09:00:00</td>\n",
              "      <td>00e120bb-89d6-4df5-bc48-a051148e3d03</td>\n",
              "      <td>0.89</td>\n",
              "      <td>3.0</td>\n",
              "      <td>-0.02885</td>\n",
              "      <td>kitchen</td>\n",
              "      <td>11.19</td>\n",
              "    </tr>\n",
              "    <tr>\n",
              "      <th>1</th>\n",
              "      <td>2022-03-01 09:00:00</td>\n",
              "      <td>01f3cdd9-8e9e-4dff-9b5c-69698a0388d0</td>\n",
              "      <td>0.14</td>\n",
              "      <td>3.0</td>\n",
              "      <td>-0.02885</td>\n",
              "      <td>vegetables</td>\n",
              "      <td>1.49</td>\n",
              "    </tr>\n",
              "    <tr>\n",
              "      <th>2</th>\n",
              "      <td>2022-03-01 09:00:00</td>\n",
              "      <td>01ff0803-ae73-4234-971d-5713c97b7f4b</td>\n",
              "      <td>0.67</td>\n",
              "      <td>0.0</td>\n",
              "      <td>-0.02885</td>\n",
              "      <td>baby products</td>\n",
              "      <td>14.19</td>\n",
              "    </tr>\n",
              "    <tr>\n",
              "      <th>3</th>\n",
              "      <td>2022-03-01 09:00:00</td>\n",
              "      <td>0363eb21-8c74-47e1-a216-c37e565e5ceb</td>\n",
              "      <td>0.82</td>\n",
              "      <td>0.0</td>\n",
              "      <td>-0.02885</td>\n",
              "      <td>beverages</td>\n",
              "      <td>20.19</td>\n",
              "    </tr>\n",
              "    <tr>\n",
              "      <th>4</th>\n",
              "      <td>2022-03-01 09:00:00</td>\n",
              "      <td>03f0b20e-3b5b-444f-bc39-cdfa2523d4bc</td>\n",
              "      <td>0.05</td>\n",
              "      <td>0.0</td>\n",
              "      <td>-0.02885</td>\n",
              "      <td>pets</td>\n",
              "      <td>8.19</td>\n",
              "    </tr>\n",
              "  </tbody>\n",
              "</table>\n",
              "</div>"
            ],
            "text/plain": [
              "            timestamp                            product_id  \\\n",
              "0 2022-03-01 09:00:00  00e120bb-89d6-4df5-bc48-a051148e3d03   \n",
              "1 2022-03-01 09:00:00  01f3cdd9-8e9e-4dff-9b5c-69698a0388d0   \n",
              "2 2022-03-01 09:00:00  01ff0803-ae73-4234-971d-5713c97b7f4b   \n",
              "3 2022-03-01 09:00:00  0363eb21-8c74-47e1-a216-c37e565e5ceb   \n",
              "4 2022-03-01 09:00:00  03f0b20e-3b5b-444f-bc39-cdfa2523d4bc   \n",
              "\n",
              "   estimated_stock_pct  quantity  temperature       category  unit_price  \n",
              "0                 0.89       3.0     -0.02885        kitchen       11.19  \n",
              "1                 0.14       3.0     -0.02885     vegetables        1.49  \n",
              "2                 0.67       0.0     -0.02885  baby products       14.19  \n",
              "3                 0.82       0.0     -0.02885      beverages       20.19  \n",
              "4                 0.05       0.0     -0.02885           pets        8.19  "
            ]
          },
          "execution_count": 26,
          "metadata": {},
          "output_type": "execute_result"
        }
      ],
      "source": [
        "merged_df = merged_df.merge(product_price, on=\"product_id\", how=\"left\")\n",
        "merged_df.head()"
      ]
    },
    {
      "cell_type": "code",
      "execution_count": 27,
      "metadata": {
        "colab": {
          "base_uri": "https://localhost:8080/"
        },
        "id": "XabU9Uw3lXK1",
        "outputId": "a62b0cdd-8b4c-4eeb-c965-90f9b655cc89"
      },
      "outputs": [
        {
          "name": "stdout",
          "output_type": "stream",
          "text": [
            "<class 'pandas.core.frame.DataFrame'>\n",
            "RangeIndex: 10845 entries, 0 to 10844\n",
            "Data columns (total 7 columns):\n",
            " #   Column               Non-Null Count  Dtype         \n",
            "---  ------               --------------  -----         \n",
            " 0   timestamp            10845 non-null  datetime64[ns]\n",
            " 1   product_id           10845 non-null  object        \n",
            " 2   estimated_stock_pct  10845 non-null  float64       \n",
            " 3   quantity             10845 non-null  float64       \n",
            " 4   temperature          10845 non-null  float64       \n",
            " 5   category             10845 non-null  object        \n",
            " 6   unit_price           10845 non-null  float64       \n",
            "dtypes: datetime64[ns](1), float64(4), object(2)\n",
            "memory usage: 593.2+ KB\n"
          ]
        }
      ],
      "source": [
        "merged_df.info()"
      ]
    },
    {
      "cell_type": "markdown",
      "metadata": {
        "id": "63cEOb1HlRUi"
      },
      "source": [
        "Now we have our table with 2 extra features!\n",
        "\n",
        "---\n",
        "\n",
        "## Section 6 - Feature engineering\n",
        "\n",
        "We have our cleaned and merged data. Now we must transform this data so that the columns are in a suitable format for a machine learning model. In other terms, every column must be numeric. There are some models that will accept categorical features, but for this exercise we will use a model that requires numeric features.\n",
        "\n",
        "Let's first engineer the `timestamp` column. In it's current form, it is not very useful for a machine learning model. Since it's a datetime datatype, we can explode this column into day of week, day of month and hour to name a few."
      ]
    },
    {
      "cell_type": "code",
      "execution_count": 28,
      "metadata": {
        "colab": {
          "base_uri": "https://localhost:8080/",
          "height": 530
        },
        "id": "iPoGpaJMk-eg",
        "outputId": "1b0e8f5b-9fc0-4475-f8b3-6519c873c41e"
      },
      "outputs": [
        {
          "data": {
            "text/html": [
              "<div>\n",
              "<style scoped>\n",
              "    .dataframe tbody tr th:only-of-type {\n",
              "        vertical-align: middle;\n",
              "    }\n",
              "\n",
              "    .dataframe tbody tr th {\n",
              "        vertical-align: top;\n",
              "    }\n",
              "\n",
              "    .dataframe thead th {\n",
              "        text-align: right;\n",
              "    }\n",
              "</style>\n",
              "<table border=\"1\" class=\"dataframe\">\n",
              "  <thead>\n",
              "    <tr style=\"text-align: right;\">\n",
              "      <th></th>\n",
              "      <th>product_id</th>\n",
              "      <th>estimated_stock_pct</th>\n",
              "      <th>quantity</th>\n",
              "      <th>temperature</th>\n",
              "      <th>category</th>\n",
              "      <th>unit_price</th>\n",
              "      <th>timestamp_day_of_month</th>\n",
              "      <th>timestamp_day_of_week</th>\n",
              "      <th>timestamp_hour</th>\n",
              "    </tr>\n",
              "  </thead>\n",
              "  <tbody>\n",
              "    <tr>\n",
              "      <th>0</th>\n",
              "      <td>00e120bb-89d6-4df5-bc48-a051148e3d03</td>\n",
              "      <td>0.89</td>\n",
              "      <td>3.0</td>\n",
              "      <td>-0.02885</td>\n",
              "      <td>kitchen</td>\n",
              "      <td>11.19</td>\n",
              "      <td>1</td>\n",
              "      <td>1</td>\n",
              "      <td>9</td>\n",
              "    </tr>\n",
              "    <tr>\n",
              "      <th>1</th>\n",
              "      <td>01f3cdd9-8e9e-4dff-9b5c-69698a0388d0</td>\n",
              "      <td>0.14</td>\n",
              "      <td>3.0</td>\n",
              "      <td>-0.02885</td>\n",
              "      <td>vegetables</td>\n",
              "      <td>1.49</td>\n",
              "      <td>1</td>\n",
              "      <td>1</td>\n",
              "      <td>9</td>\n",
              "    </tr>\n",
              "    <tr>\n",
              "      <th>2</th>\n",
              "      <td>01ff0803-ae73-4234-971d-5713c97b7f4b</td>\n",
              "      <td>0.67</td>\n",
              "      <td>0.0</td>\n",
              "      <td>-0.02885</td>\n",
              "      <td>baby products</td>\n",
              "      <td>14.19</td>\n",
              "      <td>1</td>\n",
              "      <td>1</td>\n",
              "      <td>9</td>\n",
              "    </tr>\n",
              "    <tr>\n",
              "      <th>3</th>\n",
              "      <td>0363eb21-8c74-47e1-a216-c37e565e5ceb</td>\n",
              "      <td>0.82</td>\n",
              "      <td>0.0</td>\n",
              "      <td>-0.02885</td>\n",
              "      <td>beverages</td>\n",
              "      <td>20.19</td>\n",
              "      <td>1</td>\n",
              "      <td>1</td>\n",
              "      <td>9</td>\n",
              "    </tr>\n",
              "    <tr>\n",
              "      <th>4</th>\n",
              "      <td>03f0b20e-3b5b-444f-bc39-cdfa2523d4bc</td>\n",
              "      <td>0.05</td>\n",
              "      <td>0.0</td>\n",
              "      <td>-0.02885</td>\n",
              "      <td>pets</td>\n",
              "      <td>8.19</td>\n",
              "      <td>1</td>\n",
              "      <td>1</td>\n",
              "      <td>9</td>\n",
              "    </tr>\n",
              "  </tbody>\n",
              "</table>\n",
              "</div>"
            ],
            "text/plain": [
              "                             product_id  estimated_stock_pct  quantity  \\\n",
              "0  00e120bb-89d6-4df5-bc48-a051148e3d03                 0.89       3.0   \n",
              "1  01f3cdd9-8e9e-4dff-9b5c-69698a0388d0                 0.14       3.0   \n",
              "2  01ff0803-ae73-4234-971d-5713c97b7f4b                 0.67       0.0   \n",
              "3  0363eb21-8c74-47e1-a216-c37e565e5ceb                 0.82       0.0   \n",
              "4  03f0b20e-3b5b-444f-bc39-cdfa2523d4bc                 0.05       0.0   \n",
              "\n",
              "   temperature       category  unit_price  timestamp_day_of_month  \\\n",
              "0     -0.02885        kitchen       11.19                       1   \n",
              "1     -0.02885     vegetables        1.49                       1   \n",
              "2     -0.02885  baby products       14.19                       1   \n",
              "3     -0.02885      beverages       20.19                       1   \n",
              "4     -0.02885           pets        8.19                       1   \n",
              "\n",
              "   timestamp_day_of_week  timestamp_hour  \n",
              "0                      1               9  \n",
              "1                      1               9  \n",
              "2                      1               9  \n",
              "3                      1               9  \n",
              "4                      1               9  "
            ]
          },
          "execution_count": 28,
          "metadata": {},
          "output_type": "execute_result"
        }
      ],
      "source": [
        "merged_df['timestamp_day_of_month'] = merged_df['timestamp'].dt.day\n",
        "merged_df['timestamp_day_of_week'] = merged_df['timestamp'].dt.dayofweek\n",
        "merged_df['timestamp_hour'] = merged_df['timestamp'].dt.hour\n",
        "merged_df.drop(columns=['timestamp'], inplace=True)\n",
        "merged_df.head()"
      ]
    },
    {
      "cell_type": "markdown",
      "metadata": {
        "id": "smC2s_qUtvgU"
      },
      "source": [
        "The next column that we can engineer is the `category` column. In its current form it is categorical. We can convert it into numeric by creating dummy variables from this categorical column.\n",
        "\n",
        "A dummy variable is a binary flag column (1's and 0's) that indicates whether a row fits a particular value of that column. For example, we can create a dummy column called category_pets, which will contain a 1 if that row indicates a product which was included within this category and a 0 if not."
      ]
    },
    {
      "cell_type": "code",
      "execution_count": 29,
      "metadata": {
        "colab": {
          "base_uri": "https://localhost:8080/",
          "height": 577
        },
        "id": "3I40oIHjl1re",
        "outputId": "3ffafc12-d7c7-4a8d-e2b7-c4eef4c65b4a"
      },
      "outputs": [
        {
          "data": {
            "text/html": [
              "<div>\n",
              "<style scoped>\n",
              "    .dataframe tbody tr th:only-of-type {\n",
              "        vertical-align: middle;\n",
              "    }\n",
              "\n",
              "    .dataframe tbody tr th {\n",
              "        vertical-align: top;\n",
              "    }\n",
              "\n",
              "    .dataframe thead th {\n",
              "        text-align: right;\n",
              "    }\n",
              "</style>\n",
              "<table border=\"1\" class=\"dataframe\">\n",
              "  <thead>\n",
              "    <tr style=\"text-align: right;\">\n",
              "      <th></th>\n",
              "      <th>product_id</th>\n",
              "      <th>estimated_stock_pct</th>\n",
              "      <th>quantity</th>\n",
              "      <th>temperature</th>\n",
              "      <th>unit_price</th>\n",
              "      <th>timestamp_day_of_month</th>\n",
              "      <th>timestamp_day_of_week</th>\n",
              "      <th>timestamp_hour</th>\n",
              "      <th>category_baby products</th>\n",
              "      <th>category_baked goods</th>\n",
              "      <th>...</th>\n",
              "      <th>category_meat</th>\n",
              "      <th>category_medicine</th>\n",
              "      <th>category_packaged foods</th>\n",
              "      <th>category_personal care</th>\n",
              "      <th>category_pets</th>\n",
              "      <th>category_refrigerated items</th>\n",
              "      <th>category_seafood</th>\n",
              "      <th>category_snacks</th>\n",
              "      <th>category_spices and herbs</th>\n",
              "      <th>category_vegetables</th>\n",
              "    </tr>\n",
              "  </thead>\n",
              "  <tbody>\n",
              "    <tr>\n",
              "      <th>0</th>\n",
              "      <td>00e120bb-89d6-4df5-bc48-a051148e3d03</td>\n",
              "      <td>0.89</td>\n",
              "      <td>3.0</td>\n",
              "      <td>-0.02885</td>\n",
              "      <td>11.19</td>\n",
              "      <td>1</td>\n",
              "      <td>1</td>\n",
              "      <td>9</td>\n",
              "      <td>False</td>\n",
              "      <td>False</td>\n",
              "      <td>...</td>\n",
              "      <td>False</td>\n",
              "      <td>False</td>\n",
              "      <td>False</td>\n",
              "      <td>False</td>\n",
              "      <td>False</td>\n",
              "      <td>False</td>\n",
              "      <td>False</td>\n",
              "      <td>False</td>\n",
              "      <td>False</td>\n",
              "      <td>False</td>\n",
              "    </tr>\n",
              "    <tr>\n",
              "      <th>1</th>\n",
              "      <td>01f3cdd9-8e9e-4dff-9b5c-69698a0388d0</td>\n",
              "      <td>0.14</td>\n",
              "      <td>3.0</td>\n",
              "      <td>-0.02885</td>\n",
              "      <td>1.49</td>\n",
              "      <td>1</td>\n",
              "      <td>1</td>\n",
              "      <td>9</td>\n",
              "      <td>False</td>\n",
              "      <td>False</td>\n",
              "      <td>...</td>\n",
              "      <td>False</td>\n",
              "      <td>False</td>\n",
              "      <td>False</td>\n",
              "      <td>False</td>\n",
              "      <td>False</td>\n",
              "      <td>False</td>\n",
              "      <td>False</td>\n",
              "      <td>False</td>\n",
              "      <td>False</td>\n",
              "      <td>True</td>\n",
              "    </tr>\n",
              "    <tr>\n",
              "      <th>2</th>\n",
              "      <td>01ff0803-ae73-4234-971d-5713c97b7f4b</td>\n",
              "      <td>0.67</td>\n",
              "      <td>0.0</td>\n",
              "      <td>-0.02885</td>\n",
              "      <td>14.19</td>\n",
              "      <td>1</td>\n",
              "      <td>1</td>\n",
              "      <td>9</td>\n",
              "      <td>True</td>\n",
              "      <td>False</td>\n",
              "      <td>...</td>\n",
              "      <td>False</td>\n",
              "      <td>False</td>\n",
              "      <td>False</td>\n",
              "      <td>False</td>\n",
              "      <td>False</td>\n",
              "      <td>False</td>\n",
              "      <td>False</td>\n",
              "      <td>False</td>\n",
              "      <td>False</td>\n",
              "      <td>False</td>\n",
              "    </tr>\n",
              "    <tr>\n",
              "      <th>3</th>\n",
              "      <td>0363eb21-8c74-47e1-a216-c37e565e5ceb</td>\n",
              "      <td>0.82</td>\n",
              "      <td>0.0</td>\n",
              "      <td>-0.02885</td>\n",
              "      <td>20.19</td>\n",
              "      <td>1</td>\n",
              "      <td>1</td>\n",
              "      <td>9</td>\n",
              "      <td>False</td>\n",
              "      <td>False</td>\n",
              "      <td>...</td>\n",
              "      <td>False</td>\n",
              "      <td>False</td>\n",
              "      <td>False</td>\n",
              "      <td>False</td>\n",
              "      <td>False</td>\n",
              "      <td>False</td>\n",
              "      <td>False</td>\n",
              "      <td>False</td>\n",
              "      <td>False</td>\n",
              "      <td>False</td>\n",
              "    </tr>\n",
              "    <tr>\n",
              "      <th>4</th>\n",
              "      <td>03f0b20e-3b5b-444f-bc39-cdfa2523d4bc</td>\n",
              "      <td>0.05</td>\n",
              "      <td>0.0</td>\n",
              "      <td>-0.02885</td>\n",
              "      <td>8.19</td>\n",
              "      <td>1</td>\n",
              "      <td>1</td>\n",
              "      <td>9</td>\n",
              "      <td>False</td>\n",
              "      <td>False</td>\n",
              "      <td>...</td>\n",
              "      <td>False</td>\n",
              "      <td>False</td>\n",
              "      <td>False</td>\n",
              "      <td>False</td>\n",
              "      <td>True</td>\n",
              "      <td>False</td>\n",
              "      <td>False</td>\n",
              "      <td>False</td>\n",
              "      <td>False</td>\n",
              "      <td>False</td>\n",
              "    </tr>\n",
              "  </tbody>\n",
              "</table>\n",
              "<p>5 rows × 30 columns</p>\n",
              "</div>"
            ],
            "text/plain": [
              "                             product_id  estimated_stock_pct  quantity  \\\n",
              "0  00e120bb-89d6-4df5-bc48-a051148e3d03                 0.89       3.0   \n",
              "1  01f3cdd9-8e9e-4dff-9b5c-69698a0388d0                 0.14       3.0   \n",
              "2  01ff0803-ae73-4234-971d-5713c97b7f4b                 0.67       0.0   \n",
              "3  0363eb21-8c74-47e1-a216-c37e565e5ceb                 0.82       0.0   \n",
              "4  03f0b20e-3b5b-444f-bc39-cdfa2523d4bc                 0.05       0.0   \n",
              "\n",
              "   temperature  unit_price  timestamp_day_of_month  timestamp_day_of_week  \\\n",
              "0     -0.02885       11.19                       1                      1   \n",
              "1     -0.02885        1.49                       1                      1   \n",
              "2     -0.02885       14.19                       1                      1   \n",
              "3     -0.02885       20.19                       1                      1   \n",
              "4     -0.02885        8.19                       1                      1   \n",
              "\n",
              "   timestamp_hour  category_baby products  category_baked goods  ...  \\\n",
              "0               9                   False                 False  ...   \n",
              "1               9                   False                 False  ...   \n",
              "2               9                    True                 False  ...   \n",
              "3               9                   False                 False  ...   \n",
              "4               9                   False                 False  ...   \n",
              "\n",
              "   category_meat  category_medicine  category_packaged foods  \\\n",
              "0          False              False                    False   \n",
              "1          False              False                    False   \n",
              "2          False              False                    False   \n",
              "3          False              False                    False   \n",
              "4          False              False                    False   \n",
              "\n",
              "   category_personal care  category_pets  category_refrigerated items  \\\n",
              "0                   False          False                        False   \n",
              "1                   False          False                        False   \n",
              "2                   False          False                        False   \n",
              "3                   False          False                        False   \n",
              "4                   False           True                        False   \n",
              "\n",
              "   category_seafood  category_snacks  category_spices and herbs  \\\n",
              "0             False            False                      False   \n",
              "1             False            False                      False   \n",
              "2             False            False                      False   \n",
              "3             False            False                      False   \n",
              "4             False            False                      False   \n",
              "\n",
              "   category_vegetables  \n",
              "0                False  \n",
              "1                 True  \n",
              "2                False  \n",
              "3                False  \n",
              "4                False  \n",
              "\n",
              "[5 rows x 30 columns]"
            ]
          },
          "execution_count": 29,
          "metadata": {},
          "output_type": "execute_result"
        }
      ],
      "source": [
        "merged_df = pd.get_dummies(merged_df, columns=['category'])\n",
        "merged_df.head()"
      ]
    },
    {
      "cell_type": "code",
      "execution_count": 30,
      "metadata": {
        "colab": {
          "base_uri": "https://localhost:8080/"
        },
        "id": "Sw-2zQTzumjv",
        "outputId": "4dcc220c-9112-4de2-8bc8-41aacd1d3ad2"
      },
      "outputs": [
        {
          "name": "stdout",
          "output_type": "stream",
          "text": [
            "<class 'pandas.core.frame.DataFrame'>\n",
            "RangeIndex: 10845 entries, 0 to 10844\n",
            "Data columns (total 30 columns):\n",
            " #   Column                          Non-Null Count  Dtype  \n",
            "---  ------                          --------------  -----  \n",
            " 0   product_id                      10845 non-null  object \n",
            " 1   estimated_stock_pct             10845 non-null  float64\n",
            " 2   quantity                        10845 non-null  float64\n",
            " 3   temperature                     10845 non-null  float64\n",
            " 4   unit_price                      10845 non-null  float64\n",
            " 5   timestamp_day_of_month          10845 non-null  int32  \n",
            " 6   timestamp_day_of_week           10845 non-null  int32  \n",
            " 7   timestamp_hour                  10845 non-null  int32  \n",
            " 8   category_baby products          10845 non-null  bool   \n",
            " 9   category_baked goods            10845 non-null  bool   \n",
            " 10  category_baking                 10845 non-null  bool   \n",
            " 11  category_beverages              10845 non-null  bool   \n",
            " 12  category_canned foods           10845 non-null  bool   \n",
            " 13  category_cheese                 10845 non-null  bool   \n",
            " 14  category_cleaning products      10845 non-null  bool   \n",
            " 15  category_condiments and sauces  10845 non-null  bool   \n",
            " 16  category_dairy                  10845 non-null  bool   \n",
            " 17  category_frozen                 10845 non-null  bool   \n",
            " 18  category_fruit                  10845 non-null  bool   \n",
            " 19  category_kitchen                10845 non-null  bool   \n",
            " 20  category_meat                   10845 non-null  bool   \n",
            " 21  category_medicine               10845 non-null  bool   \n",
            " 22  category_packaged foods         10845 non-null  bool   \n",
            " 23  category_personal care          10845 non-null  bool   \n",
            " 24  category_pets                   10845 non-null  bool   \n",
            " 25  category_refrigerated items     10845 non-null  bool   \n",
            " 26  category_seafood                10845 non-null  bool   \n",
            " 27  category_snacks                 10845 non-null  bool   \n",
            " 28  category_spices and herbs       10845 non-null  bool   \n",
            " 29  category_vegetables             10845 non-null  bool   \n",
            "dtypes: bool(22), float64(4), int32(3), object(1)\n",
            "memory usage: 783.8+ KB\n"
          ]
        }
      ],
      "source": [
        "merged_df.info()"
      ]
    },
    {
      "cell_type": "markdown",
      "metadata": {
        "id": "hEQniECSulpK"
      },
      "source": [
        "Looking at the latest table, we only have 1 remaining column which is not numeric. This is the `product_id`.\n",
        "\n",
        "Since each row represents a unique combination of product_id and timestamp by hour, and the product_id is simply an ID column, it will add no value by including it in the predictive model. Hence, we shall remove it from the modeling process."
      ]
    },
    {
      "cell_type": "code",
      "execution_count": 31,
      "metadata": {
        "colab": {
          "base_uri": "https://localhost:8080/",
          "height": 317
        },
        "id": "X4Fya5MktWDX",
        "outputId": "64bd0f6c-746a-42e3-c783-c11ed3e75a4a"
      },
      "outputs": [
        {
          "data": {
            "text/html": [
              "<div>\n",
              "<style scoped>\n",
              "    .dataframe tbody tr th:only-of-type {\n",
              "        vertical-align: middle;\n",
              "    }\n",
              "\n",
              "    .dataframe tbody tr th {\n",
              "        vertical-align: top;\n",
              "    }\n",
              "\n",
              "    .dataframe thead th {\n",
              "        text-align: right;\n",
              "    }\n",
              "</style>\n",
              "<table border=\"1\" class=\"dataframe\">\n",
              "  <thead>\n",
              "    <tr style=\"text-align: right;\">\n",
              "      <th></th>\n",
              "      <th>estimated_stock_pct</th>\n",
              "      <th>quantity</th>\n",
              "      <th>temperature</th>\n",
              "      <th>unit_price</th>\n",
              "      <th>timestamp_day_of_month</th>\n",
              "      <th>timestamp_day_of_week</th>\n",
              "      <th>timestamp_hour</th>\n",
              "      <th>category_baby products</th>\n",
              "      <th>category_baked goods</th>\n",
              "      <th>category_baking</th>\n",
              "      <th>...</th>\n",
              "      <th>category_meat</th>\n",
              "      <th>category_medicine</th>\n",
              "      <th>category_packaged foods</th>\n",
              "      <th>category_personal care</th>\n",
              "      <th>category_pets</th>\n",
              "      <th>category_refrigerated items</th>\n",
              "      <th>category_seafood</th>\n",
              "      <th>category_snacks</th>\n",
              "      <th>category_spices and herbs</th>\n",
              "      <th>category_vegetables</th>\n",
              "    </tr>\n",
              "  </thead>\n",
              "  <tbody>\n",
              "    <tr>\n",
              "      <th>0</th>\n",
              "      <td>0.89</td>\n",
              "      <td>3.0</td>\n",
              "      <td>-0.02885</td>\n",
              "      <td>11.19</td>\n",
              "      <td>1</td>\n",
              "      <td>1</td>\n",
              "      <td>9</td>\n",
              "      <td>False</td>\n",
              "      <td>False</td>\n",
              "      <td>False</td>\n",
              "      <td>...</td>\n",
              "      <td>False</td>\n",
              "      <td>False</td>\n",
              "      <td>False</td>\n",
              "      <td>False</td>\n",
              "      <td>False</td>\n",
              "      <td>False</td>\n",
              "      <td>False</td>\n",
              "      <td>False</td>\n",
              "      <td>False</td>\n",
              "      <td>False</td>\n",
              "    </tr>\n",
              "    <tr>\n",
              "      <th>1</th>\n",
              "      <td>0.14</td>\n",
              "      <td>3.0</td>\n",
              "      <td>-0.02885</td>\n",
              "      <td>1.49</td>\n",
              "      <td>1</td>\n",
              "      <td>1</td>\n",
              "      <td>9</td>\n",
              "      <td>False</td>\n",
              "      <td>False</td>\n",
              "      <td>False</td>\n",
              "      <td>...</td>\n",
              "      <td>False</td>\n",
              "      <td>False</td>\n",
              "      <td>False</td>\n",
              "      <td>False</td>\n",
              "      <td>False</td>\n",
              "      <td>False</td>\n",
              "      <td>False</td>\n",
              "      <td>False</td>\n",
              "      <td>False</td>\n",
              "      <td>True</td>\n",
              "    </tr>\n",
              "    <tr>\n",
              "      <th>2</th>\n",
              "      <td>0.67</td>\n",
              "      <td>0.0</td>\n",
              "      <td>-0.02885</td>\n",
              "      <td>14.19</td>\n",
              "      <td>1</td>\n",
              "      <td>1</td>\n",
              "      <td>9</td>\n",
              "      <td>True</td>\n",
              "      <td>False</td>\n",
              "      <td>False</td>\n",
              "      <td>...</td>\n",
              "      <td>False</td>\n",
              "      <td>False</td>\n",
              "      <td>False</td>\n",
              "      <td>False</td>\n",
              "      <td>False</td>\n",
              "      <td>False</td>\n",
              "      <td>False</td>\n",
              "      <td>False</td>\n",
              "      <td>False</td>\n",
              "      <td>False</td>\n",
              "    </tr>\n",
              "    <tr>\n",
              "      <th>3</th>\n",
              "      <td>0.82</td>\n",
              "      <td>0.0</td>\n",
              "      <td>-0.02885</td>\n",
              "      <td>20.19</td>\n",
              "      <td>1</td>\n",
              "      <td>1</td>\n",
              "      <td>9</td>\n",
              "      <td>False</td>\n",
              "      <td>False</td>\n",
              "      <td>False</td>\n",
              "      <td>...</td>\n",
              "      <td>False</td>\n",
              "      <td>False</td>\n",
              "      <td>False</td>\n",
              "      <td>False</td>\n",
              "      <td>False</td>\n",
              "      <td>False</td>\n",
              "      <td>False</td>\n",
              "      <td>False</td>\n",
              "      <td>False</td>\n",
              "      <td>False</td>\n",
              "    </tr>\n",
              "    <tr>\n",
              "      <th>4</th>\n",
              "      <td>0.05</td>\n",
              "      <td>0.0</td>\n",
              "      <td>-0.02885</td>\n",
              "      <td>8.19</td>\n",
              "      <td>1</td>\n",
              "      <td>1</td>\n",
              "      <td>9</td>\n",
              "      <td>False</td>\n",
              "      <td>False</td>\n",
              "      <td>False</td>\n",
              "      <td>...</td>\n",
              "      <td>False</td>\n",
              "      <td>False</td>\n",
              "      <td>False</td>\n",
              "      <td>False</td>\n",
              "      <td>True</td>\n",
              "      <td>False</td>\n",
              "      <td>False</td>\n",
              "      <td>False</td>\n",
              "      <td>False</td>\n",
              "      <td>False</td>\n",
              "    </tr>\n",
              "  </tbody>\n",
              "</table>\n",
              "<p>5 rows × 29 columns</p>\n",
              "</div>"
            ],
            "text/plain": [
              "   estimated_stock_pct  quantity  temperature  unit_price  \\\n",
              "0                 0.89       3.0     -0.02885       11.19   \n",
              "1                 0.14       3.0     -0.02885        1.49   \n",
              "2                 0.67       0.0     -0.02885       14.19   \n",
              "3                 0.82       0.0     -0.02885       20.19   \n",
              "4                 0.05       0.0     -0.02885        8.19   \n",
              "\n",
              "   timestamp_day_of_month  timestamp_day_of_week  timestamp_hour  \\\n",
              "0                       1                      1               9   \n",
              "1                       1                      1               9   \n",
              "2                       1                      1               9   \n",
              "3                       1                      1               9   \n",
              "4                       1                      1               9   \n",
              "\n",
              "   category_baby products  category_baked goods  category_baking  ...  \\\n",
              "0                   False                 False            False  ...   \n",
              "1                   False                 False            False  ...   \n",
              "2                    True                 False            False  ...   \n",
              "3                   False                 False            False  ...   \n",
              "4                   False                 False            False  ...   \n",
              "\n",
              "   category_meat  category_medicine  category_packaged foods  \\\n",
              "0          False              False                    False   \n",
              "1          False              False                    False   \n",
              "2          False              False                    False   \n",
              "3          False              False                    False   \n",
              "4          False              False                    False   \n",
              "\n",
              "   category_personal care  category_pets  category_refrigerated items  \\\n",
              "0                   False          False                        False   \n",
              "1                   False          False                        False   \n",
              "2                   False          False                        False   \n",
              "3                   False          False                        False   \n",
              "4                   False           True                        False   \n",
              "\n",
              "   category_seafood  category_snacks  category_spices and herbs  \\\n",
              "0             False            False                      False   \n",
              "1             False            False                      False   \n",
              "2             False            False                      False   \n",
              "3             False            False                      False   \n",
              "4             False            False                      False   \n",
              "\n",
              "   category_vegetables  \n",
              "0                False  \n",
              "1                 True  \n",
              "2                False  \n",
              "3                False  \n",
              "4                False  \n",
              "\n",
              "[5 rows x 29 columns]"
            ]
          },
          "execution_count": 31,
          "metadata": {},
          "output_type": "execute_result"
        }
      ],
      "source": [
        "merged_df.drop(columns=['product_id'], inplace=True)\n",
        "merged_df.head()"
      ]
    },
    {
      "cell_type": "markdown",
      "metadata": {
        "id": "0XjLcgGNvF4M"
      },
      "source": [
        "This feature engineering was by no means exhaustive, but was enough to give you an example of the process followed when engineering the features of a dataset. In reality, this is an iterative task. Once you've built a model, you may have to revist feature engineering in order to create new features to boost the predictive power of a machine learning model.\n",
        "\n",
        "---\n",
        "\n",
        "## Section 7 - Modelling\n",
        "\n",
        "Now it is time to train a machine learning model. We will use a supervised machine learning model, and we will use `estimated_stock_pct` as the target variable, since the problem statement was focused on being able to predict the stock levels of products on an hourly basis.\n",
        "\n",
        "Whilst training the machine learning model, we will use cross-validation, which is a technique where we hold back a portion of the dataset for testing in order to compute how well the trained machine learning model is able to predict the target variable.\n",
        "\n",
        "Finally, to ensure that the trained machine learning model is able to perform robustly, we will want to test it several times on random samples of data, not just once. Hence, we will use a `K-fold` strategy to train the machine learning model on `K` (K is an integer to be decided) random samples of the data.\n",
        "\n",
        "First, let's create our target variable `y` and independent variables `X`"
      ]
    },
    {
      "cell_type": "code",
      "execution_count": 32,
      "metadata": {
        "colab": {
          "base_uri": "https://localhost:8080/"
        },
        "id": "JTQxfORCtcyV",
        "outputId": "a827c23f-7eae-40e3-daf4-ed46e8c8dc6c"
      },
      "outputs": [
        {
          "name": "stdout",
          "output_type": "stream",
          "text": [
            "(10845, 28)\n",
            "(10845,)\n"
          ]
        }
      ],
      "source": [
        "X = merged_df.drop(columns=['estimated_stock_pct'])\n",
        "y = merged_df['estimated_stock_pct']\n",
        "print(X.shape)\n",
        "print(y.shape)"
      ]
    },
    {
      "cell_type": "markdown",
      "metadata": {
        "id": "n2ZJz_nMwnIh"
      },
      "source": [
        "This shows that we have 29 predictor variables that we will train our machine learning model on and 10845 rows of data.\n",
        "\n",
        "Now let's define how many folds we want to complete during training, and how much of the dataset to assign to training, leaving the rest for test.\n",
        "\n",
        "Typically, we should leave at least 20-30% of the data for testing."
      ]
    },
    {
      "cell_type": "code",
      "execution_count": 33,
      "metadata": {
        "id": "BCerzdmpwicK"
      },
      "outputs": [],
      "source": [
        "K = 10\n",
        "split = 0.75"
      ]
    },
    {
      "cell_type": "markdown",
      "metadata": {
        "id": "kF1suKhDxTqE"
      },
      "source": [
        "For this exercise, we are going to use a `RandomForestRegressor` model, which is an instance of a Random Forest. These are powerful tree based ensemble algorithms and are particularly good because their results are very interpretable.\n",
        "\n",
        "We are using a `regression` algorithm here because we are predicting a continuous numeric variable, that is, `estimated_stock_pct`. A `classification` algorithm would be suitable for scenarios where you're predicted a binary outcome, e.g. True/False.\n",
        "\n",
        "We are going to use a package called `scikit-learn` for the machine learning algorithm, so first we must install and import this, along with some other functions and classes that can help with the evaluation of the model."
      ]
    },
    {
      "cell_type": "code",
      "execution_count": 77,
      "metadata": {
        "colab": {
          "base_uri": "https://localhost:8080/"
        },
        "id": "AtFTOQM-xS94",
        "outputId": "02ddf5a7-6e17-41f2-e06d-17708ec38a71"
      },
      "outputs": [
        {
          "name": "stdout",
          "output_type": "stream",
          "text": [
            "Requirement already satisfied: scikit-learn in /usr/local/lib/python3.7/dist-packages (1.0.2)\n",
            "Requirement already satisfied: threadpoolctl>=2.0.0 in /usr/local/lib/python3.7/dist-packages (from scikit-learn) (3.1.0)\n",
            "Requirement already satisfied: numpy>=1.14.6 in /usr/local/lib/python3.7/dist-packages (from scikit-learn) (1.21.6)\n",
            "Requirement already satisfied: scipy>=1.1.0 in /usr/local/lib/python3.7/dist-packages (from scikit-learn) (1.4.1)\n",
            "Requirement already satisfied: joblib>=0.11 in /usr/local/lib/python3.7/dist-packages (from scikit-learn) (1.1.0)\n"
          ]
        }
      ],
      "source": [
        "!pip install scikit-learn"
      ]
    },
    {
      "cell_type": "code",
      "execution_count": 34,
      "metadata": {
        "id": "KvOOx5Orx5s5"
      },
      "outputs": [],
      "source": [
        "from sklearn.ensemble import RandomForestRegressor\n",
        "from sklearn.model_selection import train_test_split\n",
        "from sklearn.metrics import mean_absolute_error\n",
        "from sklearn.preprocessing import StandardScaler"
      ]
    },
    {
      "cell_type": "markdown",
      "metadata": {
        "id": "OtDI6rtAwzoR"
      },
      "source": [
        "And now let's create a loop to train `K` models with a 75/25% random split of the data each time between training and test samples"
      ]
    },
    {
      "cell_type": "code",
      "execution_count": 35,
      "metadata": {
        "colab": {
          "base_uri": "https://localhost:8080/"
        },
        "id": "Q-EhmuWuwy6-",
        "outputId": "f2cbbfa1-02af-41b8-f768-cc8fd536d776"
      },
      "outputs": [
        {
          "name": "stdout",
          "output_type": "stream",
          "text": [
            "Fold 1: MAE = 0.237\n",
            "Fold 2: MAE = 0.235\n",
            "Fold 3: MAE = 0.237\n",
            "Fold 4: MAE = 0.237\n",
            "Fold 5: MAE = 0.237\n",
            "Fold 6: MAE = 0.235\n",
            "Fold 7: MAE = 0.236\n",
            "Fold 8: MAE = 0.236\n",
            "Fold 9: MAE = 0.236\n",
            "Fold 10: MAE = 0.237\n",
            "Average MAE: 0.24\n"
          ]
        }
      ],
      "source": [
        "accuracy = []\n",
        "\n",
        "for fold in range(0, K):\n",
        "\n",
        "  # Instantiate algorithm\n",
        "  model = RandomForestRegressor()\n",
        "  scaler = StandardScaler()\n",
        "\n",
        "  # Create training and test samples\n",
        "  X_train, X_test, y_train, y_test = train_test_split(X, y, train_size=split, random_state=42)\n",
        "\n",
        "  # Scale X data, we scale the data because it helps the algorithm to converge\n",
        "  # and helps the algorithm to not be greedy with large values\n",
        "  scaler.fit(X_train)\n",
        "  X_train = scaler.transform(X_train)\n",
        "  X_test = scaler.transform(X_test)\n",
        "\n",
        "  # Train model\n",
        "  trained_model = model.fit(X_train, y_train)\n",
        "\n",
        "  # Generate predictions on test sample\n",
        "  y_pred = trained_model.predict(X_test)\n",
        "\n",
        "  # Compute accuracy, using mean absolute error\n",
        "  mae = mean_absolute_error(y_true=y_test, y_pred=y_pred)\n",
        "  accuracy.append(mae)\n",
        "  print(f\"Fold {fold + 1}: MAE = {mae:.3f}\")\n",
        "\n",
        "print(f\"Average MAE: {(sum(accuracy) / len(accuracy)):.2f}\")\n"
      ]
    },
    {
      "cell_type": "markdown",
      "metadata": {
        "id": "YhNZXPtV0SNp"
      },
      "source": [
        "Note, the output of this training loop may be slightly different for you if you have prepared the data differently or used different parameters!\n",
        "\n",
        "This is very interesting though. We can see that the `mean absolute error` (MAE) is almost exactly the same each time. This is a good sign, it shows that the performance of the model is consistent across different random samples of the data, which is what we want. In other words, it shows a robust nature.\n",
        "\n",
        "The `MAE` was chosen as a performance metric because it describes how closely the machine learning model was able to predict the exact value of `estimated_stock_pct`.\n",
        "\n",
        "Even though the model is predicting robustly, this value for MAE is not so good, since the average value of the target variable is around 0.51, meaning that the accuracy as a percentage was around 50%. In an ideal world, we would want the MAE to be as low as possible. This is where the iterative process of machine learning comes in. At this stage, since we only have small samples of the data, we can report back to the business with these findings and recommend that the the dataset needs to be further engineered, or more datasets need to be added.\n",
        "\n",
        "As a final note, we can use the trained model to intepret which features were signficant when the model was predicting the target variable. We will use `matplotlib` and `numpy` to visualuse the results, so we should install and import this package."
      ]
    },
    {
      "cell_type": "code",
      "execution_count": 103,
      "metadata": {
        "colab": {
          "base_uri": "https://localhost:8080/"
        },
        "id": "12LK8l334oz1",
        "outputId": "5691ad8f-d9d7-4f4e-b389-858c421b4cd3"
      },
      "outputs": [
        {
          "name": "stdout",
          "output_type": "stream",
          "text": [
            "Requirement already satisfied: matplotlib in /usr/local/lib/python3.7/dist-packages (3.2.2)\n",
            "Requirement already satisfied: pyparsing!=2.0.4,!=2.1.2,!=2.1.6,>=2.0.1 in /usr/local/lib/python3.7/dist-packages (from matplotlib) (3.0.8)\n",
            "Requirement already satisfied: numpy>=1.11 in /usr/local/lib/python3.7/dist-packages (from matplotlib) (1.21.6)\n",
            "Requirement already satisfied: python-dateutil>=2.1 in /usr/local/lib/python3.7/dist-packages (from matplotlib) (2.8.2)\n",
            "Requirement already satisfied: cycler>=0.10 in /usr/local/lib/python3.7/dist-packages (from matplotlib) (0.11.0)\n",
            "Requirement already satisfied: kiwisolver>=1.0.1 in /usr/local/lib/python3.7/dist-packages (from matplotlib) (1.4.2)\n",
            "Requirement already satisfied: typing-extensions in /usr/local/lib/python3.7/dist-packages (from kiwisolver>=1.0.1->matplotlib) (4.2.0)\n",
            "Requirement already satisfied: six>=1.5 in /usr/local/lib/python3.7/dist-packages (from python-dateutil>=2.1->matplotlib) (1.15.0)\n",
            "Requirement already satisfied: numpy in /usr/local/lib/python3.7/dist-packages (1.21.6)\n"
          ]
        }
      ],
      "source": [
        "!pip install matplotlib\n",
        "!pip install numpy"
      ]
    },
    {
      "cell_type": "code",
      "execution_count": 36,
      "metadata": {
        "id": "AqUuG8I34qmT"
      },
      "outputs": [],
      "source": [
        "import matplotlib.pyplot as plt\n",
        "import numpy as np"
      ]
    },
    {
      "cell_type": "code",
      "execution_count": 37,
      "metadata": {
        "colab": {
          "base_uri": "https://localhost:8080/",
          "height": 1000
        },
        "id": "mW0uJXM_zse8",
        "outputId": "b9955600-4281-4bf1-f085-76d3aa3f9236"
      },
      "outputs": [
        {
          "data": {
            "image/png": "[encoded data removed]",
            "text/plain": [
              "<Figure size 1000x2000 with 1 Axes>"
            ]
          },
          "metadata": {},
          "output_type": "display_data"
        }
      ],
      "source": [
        "features = [i.split(\"__\")[0] for i in X.columns]\n",
        "importances = model.feature_importances_\n",
        "indices = np.argsort(importances)\n",
        "\n",
        "fig, ax = plt.subplots(figsize=(10, 20))\n",
        "plt.title('Feature Importances')\n",
        "plt.barh(range(len(indices)), importances[indices], color='b', align='center')\n",
        "plt.yticks(range(len(indices)), [features[i] for i in indices])\n",
        "plt.xlabel('Relative Importance')\n",
        "plt.show()"
      ]
    },
    {
      "cell_type": "markdown",
      "metadata": {
        "id": "T0g01eu12uI4"
      },
      "source": [
        "This feature importance visualisation tells us:\n",
        "\n",
        "- The product categories were not that important\n",
        "- The unit price and temperature were important in predicting stock\n",
        "- The hour of day was also important for predicting stock\n",
        "\n",
        "With these insights, we can now report this back to the business"
      ]
    }
  ],
  "metadata": {
    "colab": {
      "collapsed_sections": [],
      "name": "modeling_walkthrough.ipynb",
      "provenance": []
    },
    "kernelspec": {
      "display_name": "Python 3",
      "name": "python3"
    },
    "language_info": {
      "codemirror_mode": {
        "name": "ipython",
        "version": 3
      },
      "file_extension": ".py",
      "mimetype": "text/x-python",
      "name": "python",
      "nbconvert_exporter": "python",
      "pygments_lexer": "ipython3",
      "version": "3.10.9"
    }
  },
  "nbformat": 4,
  "nbformat_minor": 0
}
